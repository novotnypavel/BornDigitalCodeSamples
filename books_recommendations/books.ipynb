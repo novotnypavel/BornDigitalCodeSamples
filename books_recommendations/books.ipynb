{
 "cells": [
  {
   "cell_type": "markdown",
   "id": "b0fdae0f",
   "metadata": {
    "pycharm": {
     "name": "#%% md\n"
    }
   },
   "source": [
    "# Book Recommender System \n",
    "### Pavel Novotný - 18. 05. 2022"
   ]
  },
  {
   "cell_type": "markdown",
   "id": "23352cf0",
   "metadata": {
    "pycharm": {
     "name": "#%% md\n"
    }
   },
   "source": [
    "The goal is to build a recommender system that will give book recommendations a reader might be interested in.\n",
    "\n",
    "Dataset I'm working with: `Book Crossing Dataset` http://www2.informatik.uni-freiburg.de/~cziegler/BX/\n",
    "\n",
    "Consits of 3 CSV files: `BX-Users`, `BX-Books` and `BX-Book-Ratings`\n",
    "\n",
    "\n",
    "#### The script implements the following 2 methods of a recommender system:\n",
    "* item-based collaborative filtering\n",
    "* model-based CF using latent factors via SVD matrix factorization \n",
    "\n",
    "For each of these 2 approaches, 2 options were implemented as described later."
   ]
  },
  {
   "cell_type": "markdown",
   "id": "c6fcc45f",
   "metadata": {
    "pycharm": {
     "name": "#%% md\n"
    }
   },
   "source": [
    "### Package import and data load"
   ]
  },
  {
   "cell_type": "code",
   "execution_count": 1,
   "id": "37388140",
   "metadata": {
    "pycharm": {
     "name": "#%%\n"
    }
   },
   "outputs": [],
   "source": [
    "import pandas as pd\n",
    "import numpy as np\n",
    "import matplotlib.pyplot as plt\n",
    "import seaborn as sns\n",
    "import scipy as sp\n",
    "from sklearn.neighbors import NearestNeighbors\n",
    "from scipy.sparse import csr_matrix\n",
    "from sklearn.decomposition import TruncatedSVD\n",
    "from sklearn.metrics.pairwise import cosine_similarity\n",
    "from scipy.sparse.linalg import svds\n",
    "from sklearn.metrics import mean_squared_error\n",
    "from sklearn.model_selection import GridSearchCV"
   ]
  },
  {
   "cell_type": "markdown",
   "id": "8f1e0364",
   "metadata": {
    "pycharm": {
     "name": "#%% md\n"
    }
   },
   "source": [
    "I eventually ran into problems loading BX-Books dataset, the problem is that some rows include semicolon in the title name, which is also the csv separator of the file. Since it is only 20 rows, I ignore those."
   ]
  },
  {
   "cell_type": "code",
   "execution_count": 2,
   "id": "a4ed0833",
   "metadata": {
    "pycharm": {
     "name": "#%%\n"
    },
    "scrolled": true
   },
   "outputs": [],
   "source": [
    "users = pd.read_csv('./BX-CSV-Dump/BX-Users.csv', sep=';', encoding='iso-8859-1')\n",
    "books = pd.read_csv('./BX-CSV-Dump/BX-Books.csv', sep=';', encoding='iso-8859-1',on_bad_lines='skip',dtype=object)\n",
    "ratings = pd.read_csv('./BX-CSV-Dump/BX-Book-Ratings.csv', sep=';', encoding='iso-8859-1')"
   ]
  },
  {
   "cell_type": "markdown",
   "id": "266209b9",
   "metadata": {
    "pycharm": {
     "name": "#%% md\n"
    }
   },
   "source": [
    "# 1. Exploratory Data Analysis"
   ]
  },
  {
   "cell_type": "markdown",
   "id": "fe916239",
   "metadata": {
    "pycharm": {
     "name": "#%% md\n"
    }
   },
   "source": [
    "How many rows were successfuly loaded in with skipping bad lines? Seems only 20 rows failed to load in, ignoring those for the moment. (Compared the CSV size manually in VS code)"
   ]
  },
  {
   "cell_type": "code",
   "execution_count": 3,
   "id": "0a8ce72d",
   "metadata": {
    "pycharm": {
     "name": "#%%\n"
    }
   },
   "outputs": [
    {
     "name": "stdout",
     "output_type": "stream",
     "text": [
      "(271360, 8)\n",
      "(278858, 3)\n",
      "(1149780, 3)\n"
     ]
    }
   ],
   "source": [
    "print(books.shape)\n",
    "print(users.shape)\n",
    "print(ratings.shape)"
   ]
  },
  {
   "cell_type": "markdown",
   "id": "abbd3d56",
   "metadata": {
    "pycharm": {
     "name": "#%% md\n"
    }
   },
   "source": [
    "#### Am I dealing with missing values?"
   ]
  },
  {
   "cell_type": "code",
   "execution_count": 4,
   "id": "4be7e807",
   "metadata": {
    "pycharm": {
     "name": "#%%\n"
    }
   },
   "outputs": [
    {
     "name": "stdout",
     "output_type": "stream",
     "text": [
      "missing values: users\n",
      "User-ID          0\n",
      "Location         0\n",
      "Age         110762\n",
      "dtype: int64\n",
      "\n",
      "missing values: books\n",
      "ISBN                   0\n",
      "Book-Title             0\n",
      "Book-Author            1\n",
      "Year-Of-Publication    0\n",
      "Publisher              2\n",
      "Image-URL-S            0\n",
      "Image-URL-M            0\n",
      "Image-URL-L            3\n",
      "dtype: int64\n",
      "\n",
      "missing values: ratings\n",
      "User-ID        0\n",
      "ISBN           0\n",
      "Book-Rating    0\n",
      "dtype: int64\n"
     ]
    }
   ],
   "source": [
    "print(\"missing values: users\")\n",
    "print(users.isna().sum())\n",
    "print()\n",
    "print(\"missing values: books\")\n",
    "print(books.isna().sum())\n",
    "print()\n",
    "print(\"missing values: ratings\")\n",
    "print(ratings.isna().sum())\n"
   ]
  },
  {
   "cell_type": "markdown",
   "id": "14647f9c",
   "metadata": {
    "pycharm": {
     "name": "#%% md\n"
    }
   },
   "source": [
    "#### How are the ratings distributed?"
   ]
  },
  {
   "cell_type": "code",
   "execution_count": 5,
   "id": "49e98170",
   "metadata": {
    "pycharm": {
     "name": "#%%\n"
    }
   },
   "outputs": [
    {
     "data": {
      "text/plain": [
       "count    1149780.000000\n",
       "mean           2.866950\n",
       "std            3.854184\n",
       "min            0.000000\n",
       "25%            0.000000\n",
       "50%            0.000000\n",
       "75%            7.000000\n",
       "max           10.000000\n",
       "Name: Book-Rating, dtype: object"
      ]
     },
     "execution_count": 5,
     "metadata": {},
     "output_type": "execute_result"
    }
   ],
   "source": [
    "ratings['Book-Rating'].describe().apply(lambda x: format(x, 'f'))"
   ]
  },
  {
   "cell_type": "code",
   "execution_count": 6,
   "id": "34880f05",
   "metadata": {
    "pycharm": {
     "name": "#%%\n"
    }
   },
   "outputs": [
    {
     "data": {
      "image/png": "[encoded data removed]",
      "text/plain": [
       "<Figure size 432x288 with 1 Axes>"
      ]
     },
     "metadata": {
      "needs_background": "light"
     },
     "output_type": "display_data"
    }
   ],
   "source": [
    "#sort_index() to print bars sorted from 0 to 10\n",
    "ratings['Book-Rating'].value_counts().sort_index().plot(kind='bar')\n",
    "plt.show()"
   ]
  },
  {
   "cell_type": "markdown",
   "id": "e2f676da",
   "metadata": {
    "pycharm": {
     "name": "#%% md\n"
    }
   },
   "source": [
    "There's a significant number of ***implicit*** ratings (rating=0, as the data source describes). These have a different interpretation than ***explicit*** ratings <1-10>, it is necessary to separate them (as is done later in data preparation)."
   ]
  },
  {
   "cell_type": "code",
   "execution_count": 7,
   "id": "d7989656",
   "metadata": {
    "pycharm": {
     "name": "#%%\n"
    }
   },
   "outputs": [
    {
     "data": {
      "text/plain": [
       "0     716109\n",
       "1       1770\n",
       "2       2759\n",
       "3       5996\n",
       "4       8904\n",
       "5      50974\n",
       "6      36924\n",
       "7      76457\n",
       "8     103736\n",
       "9      67541\n",
       "10     78610\n",
       "Name: Book-Rating, dtype: int64"
      ]
     },
     "execution_count": 7,
     "metadata": {},
     "output_type": "execute_result"
    }
   ],
   "source": [
    "ratings['Book-Rating'].value_counts().sort_index()"
   ]
  },
  {
   "cell_type": "markdown",
   "id": "8d376e68",
   "metadata": {
    "pycharm": {
     "name": "#%% md\n"
    }
   },
   "source": [
    "### Age of users"
   ]
  },
  {
   "cell_type": "markdown",
   "id": "f38665fd",
   "metadata": {
    "pycharm": {
     "name": "#%% md\n"
    }
   },
   "source": [
    "I won't be using age as a feature since I'm doing a collaborative filtering models, but let's look into the data anyway. There is also quite a lot of missing values of age, if I were using age as a feature, missing value imputation would be necessary (e.g. median or mean, plus adding a binary label imputed: 0/1)"
   ]
  },
  {
   "cell_type": "code",
   "execution_count": 8,
   "id": "7946a835",
   "metadata": {
    "pycharm": {
     "name": "#%%\n"
    }
   },
   "outputs": [
    {
     "data": {
      "image/png": "[encoded data removed]",
      "text/plain": [
       "<Figure size 432x288 with 1 Axes>"
      ]
     },
     "metadata": {
      "needs_background": "light"
     },
     "output_type": "display_data"
    }
   ],
   "source": [
    "sns.histplot(data=users,x='Age',bins=50)\n",
    "plt.xlim(0, 110)\n",
    "plt.xticks(np.arange(0,101,step=10))\n",
    "plt.show()"
   ]
  },
  {
   "cell_type": "markdown",
   "id": "4c8e1060",
   "metadata": {
    "pycharm": {
     "name": "#%% md\n"
    }
   },
   "source": [
    "### Year of Publication"
   ]
  },
  {
   "cell_type": "code",
   "execution_count": 9,
   "id": "f201b16f",
   "metadata": {
    "pycharm": {
     "name": "#%%\n"
    }
   },
   "outputs": [
    {
     "data": {
      "image/png": "[encoded data removed]",
      "text/plain": [
       "<Figure size 1584x576 with 1 Axes>"
      ]
     },
     "metadata": {
      "needs_background": "light"
     },
     "output_type": "display_data"
    }
   ],
   "source": [
    "books['Year-Of-Publication'].value_counts().sort_index().plot(kind='bar',figsize=(22, 8))\n",
    "plt.show()"
   ]
  },
  {
   "cell_type": "markdown",
   "id": "87947944",
   "metadata": {
    "pycharm": {
     "name": "#%% md\n"
    }
   },
   "source": [
    "How many books have no rating?"
   ]
  },
  {
   "cell_type": "code",
   "execution_count": 10,
   "id": "05b6c5b6",
   "metadata": {
    "pycharm": {
     "name": "#%%\n"
    }
   },
   "outputs": [
    {
     "name": "stdout",
     "output_type": "stream",
     "text": [
      "0.1044921875\n"
     ]
    }
   ],
   "source": [
    "print(books.loc[~ratings['ISBN'].isin(books['ISBN'])].shape[0] / books.shape[0])"
   ]
  },
  {
   "cell_type": "markdown",
   "id": "d6560782",
   "metadata": {
    "pycharm": {
     "name": "#%% md\n"
    }
   },
   "source": [
    "### Count of ratings per books"
   ]
  },
  {
   "cell_type": "code",
   "execution_count": 11,
   "id": "6d943bc4",
   "metadata": {
    "pycharm": {
     "name": "#%%\n"
    }
   },
   "outputs": [
    {
     "data": {
      "text/html": [
       "<div>\n",
       "<style scoped>\n",
       "    .dataframe tbody tr th:only-of-type {\n",
       "        vertical-align: middle;\n",
       "    }\n",
       "\n",
       "    .dataframe tbody tr th {\n",
       "        vertical-align: top;\n",
       "    }\n",
       "\n",
       "    .dataframe thead th {\n",
       "        text-align: right;\n",
       "    }\n",
       "</style>\n",
       "<table border=\"1\" class=\"dataframe\">\n",
       "  <thead>\n",
       "    <tr style=\"text-align: right;\">\n",
       "      <th></th>\n",
       "      <th>rating_counts</th>\n",
       "    </tr>\n",
       "  </thead>\n",
       "  <tbody>\n",
       "    <tr>\n",
       "      <th>count</th>\n",
       "      <td>340556.000000</td>\n",
       "    </tr>\n",
       "    <tr>\n",
       "      <th>mean</th>\n",
       "      <td>3.376185</td>\n",
       "    </tr>\n",
       "    <tr>\n",
       "      <th>std</th>\n",
       "      <td>12.436252</td>\n",
       "    </tr>\n",
       "    <tr>\n",
       "      <th>min</th>\n",
       "      <td>1.000000</td>\n",
       "    </tr>\n",
       "    <tr>\n",
       "      <th>25%</th>\n",
       "      <td>1.000000</td>\n",
       "    </tr>\n",
       "    <tr>\n",
       "      <th>50%</th>\n",
       "      <td>1.000000</td>\n",
       "    </tr>\n",
       "    <tr>\n",
       "      <th>75%</th>\n",
       "      <td>2.000000</td>\n",
       "    </tr>\n",
       "    <tr>\n",
       "      <th>max</th>\n",
       "      <td>2502.000000</td>\n",
       "    </tr>\n",
       "  </tbody>\n",
       "</table>\n",
       "</div>"
      ],
      "text/plain": [
       "       rating_counts\n",
       "count  340556.000000\n",
       "mean        3.376185\n",
       "std        12.436252\n",
       "min         1.000000\n",
       "25%         1.000000\n",
       "50%         1.000000\n",
       "75%         2.000000\n",
       "max      2502.000000"
      ]
     },
     "execution_count": 11,
     "metadata": {},
     "output_type": "execute_result"
    }
   ],
   "source": [
    "rating_counts_eda = ratings.groupby(by='ISBN')['Book-Rating'].count().reset_index()\n",
    "rating_counts_eda = rating_counts_eda.rename(columns={'Book-Rating':'rating_counts'})\n",
    "rating_counts_eda.describe()"
   ]
  },
  {
   "cell_type": "markdown",
   "id": "4aa0a0ac",
   "metadata": {
    "pycharm": {
     "name": "#%% md\n"
    }
   },
   "source": [
    "Books get 3.4 ratings on average, but this is affected by the extreme values. For computation complexity reasons, I decided to include only movies with number of ratings >= 10. (See data preparation)"
   ]
  },
  {
   "cell_type": "markdown",
   "id": "d560530e",
   "metadata": {
    "pycharm": {
     "name": "#%% md\n"
    }
   },
   "source": [
    "### Count of ratings per user"
   ]
  },
  {
   "cell_type": "code",
   "execution_count": 12,
   "id": "74db235e",
   "metadata": {
    "pycharm": {
     "name": "#%%\n"
    }
   },
   "outputs": [
    {
     "data": {
      "text/html": [
       "<div>\n",
       "<style scoped>\n",
       "    .dataframe tbody tr th:only-of-type {\n",
       "        vertical-align: middle;\n",
       "    }\n",
       "\n",
       "    .dataframe tbody tr th {\n",
       "        vertical-align: top;\n",
       "    }\n",
       "\n",
       "    .dataframe thead th {\n",
       "        text-align: right;\n",
       "    }\n",
       "</style>\n",
       "<table border=\"1\" class=\"dataframe\">\n",
       "  <thead>\n",
       "    <tr style=\"text-align: right;\">\n",
       "      <th></th>\n",
       "      <th>rating_user_count</th>\n",
       "    </tr>\n",
       "  </thead>\n",
       "  <tbody>\n",
       "    <tr>\n",
       "      <th>count</th>\n",
       "      <td>105283.000000</td>\n",
       "    </tr>\n",
       "    <tr>\n",
       "      <th>mean</th>\n",
       "      <td>10.920851</td>\n",
       "    </tr>\n",
       "    <tr>\n",
       "      <th>std</th>\n",
       "      <td>90.562825</td>\n",
       "    </tr>\n",
       "    <tr>\n",
       "      <th>min</th>\n",
       "      <td>1.000000</td>\n",
       "    </tr>\n",
       "    <tr>\n",
       "      <th>25%</th>\n",
       "      <td>1.000000</td>\n",
       "    </tr>\n",
       "    <tr>\n",
       "      <th>50%</th>\n",
       "      <td>1.000000</td>\n",
       "    </tr>\n",
       "    <tr>\n",
       "      <th>75%</th>\n",
       "      <td>4.000000</td>\n",
       "    </tr>\n",
       "    <tr>\n",
       "      <th>max</th>\n",
       "      <td>13602.000000</td>\n",
       "    </tr>\n",
       "  </tbody>\n",
       "</table>\n",
       "</div>"
      ],
      "text/plain": [
       "       rating_user_count\n",
       "count      105283.000000\n",
       "mean           10.920851\n",
       "std            90.562825\n",
       "min             1.000000\n",
       "25%             1.000000\n",
       "50%             1.000000\n",
       "75%             4.000000\n",
       "max         13602.000000"
      ]
     },
     "execution_count": 12,
     "metadata": {},
     "output_type": "execute_result"
    }
   ],
   "source": [
    "rating_counts_eda_user = ratings.groupby(by='User-ID')['Book-Rating'].count().reset_index()\n",
    "rating_counts_eda_user = rating_counts_eda_user.rename(columns={'Book-Rating':'rating_user_count'})\n",
    "rating_counts_eda_user[['rating_user_count']].describe()"
   ]
  },
  {
   "cell_type": "markdown",
   "id": "d5b1cd07",
   "metadata": {
    "pycharm": {
     "name": "#%% md\n"
    }
   },
   "source": [
    "# 2. Data preparation"
   ]
  },
  {
   "cell_type": "markdown",
   "id": "22473f6b",
   "metadata": {
    "pycharm": {
     "name": "#%% md\n"
    }
   },
   "source": [
    "* Dropping the image urls columns, won't be needed (at least at the moment)\n",
    "* Renaming columns for easier typing"
   ]
  },
  {
   "cell_type": "code",
   "execution_count": 13,
   "id": "0105c869",
   "metadata": {
    "pycharm": {
     "name": "#%%\n"
    }
   },
   "outputs": [],
   "source": [
    "books = books[['ISBN', 'Book-Title', 'Book-Author', 'Year-Of-Publication', 'Publisher']]\n",
    "\n",
    "books = books.rename(columns={'ISBN':'isbn', 'Book-Title':'title','Book-Author':'author',\n",
    "                      'Year-Of-Publication':'year','Publisher':'publisher'})\n",
    "\n",
    "ratings = ratings.rename(columns={'User-ID':'user_id', 'ISBN':'isbn', 'Book-Rating':'rating'})\n",
    "\n",
    "users = users.rename(columns={'User-ID':'user_id', 'Location':'location', 'Age': 'age'})"
   ]
  },
  {
   "cell_type": "markdown",
   "id": "ed074858",
   "metadata": {
    "pycharm": {
     "name": "#%% md\n"
    }
   },
   "source": [
    "3 rows in the books dataframe (df shape vs shape of the following result) actually did not contain correct year value -> dropping those"
   ]
  },
  {
   "cell_type": "code",
   "execution_count": 14,
   "id": "c7ba63d1",
   "metadata": {
    "pycharm": {
     "name": "#%%\n"
    }
   },
   "outputs": [
    {
     "name": "stdout",
     "output_type": "stream",
     "text": [
      "(271360, 5)\n",
      "(271357, 5)\n"
     ]
    }
   ],
   "source": [
    "print(books.shape)\n",
    "books = books[pd.to_numeric(books['year'], errors='coerce').notnull()]\n",
    "books['year'] = books['year'].astype(int)\n",
    "print(books.shape)"
   ]
  },
  {
   "cell_type": "markdown",
   "id": "d99419f9",
   "metadata": {
    "pycharm": {
     "name": "#%% md\n"
    }
   },
   "source": [
    "#### Split ratings dataset to implicit and explicit rating subsets, build RS only with explicit ratings"
   ]
  },
  {
   "cell_type": "code",
   "execution_count": 15,
   "id": "67a448cb",
   "metadata": {
    "pycharm": {
     "name": "#%%\n"
    }
   },
   "outputs": [],
   "source": [
    "#implicit\n",
    "ratings_0 = ratings.loc[ratings['rating']==0]\n",
    "#explicit\n",
    "ratings_1_10 = ratings.loc[(ratings['rating']>=1) & (ratings['rating']<=10)]"
   ]
  },
  {
   "cell_type": "markdown",
   "id": "ad1f282c",
   "metadata": {
    "pycharm": {
     "name": "#%% md\n"
    }
   },
   "source": [
    "#### Merge books with explicit ratings"
   ]
  },
  {
   "cell_type": "code",
   "execution_count": 16,
   "id": "0a603d1f",
   "metadata": {
    "pycharm": {
     "name": "#%%\n"
    }
   },
   "outputs": [
    {
     "data": {
      "text/html": [
       "<div>\n",
       "<style scoped>\n",
       "    .dataframe tbody tr th:only-of-type {\n",
       "        vertical-align: middle;\n",
       "    }\n",
       "\n",
       "    .dataframe tbody tr th {\n",
       "        vertical-align: top;\n",
       "    }\n",
       "\n",
       "    .dataframe thead th {\n",
       "        text-align: right;\n",
       "    }\n",
       "</style>\n",
       "<table border=\"1\" class=\"dataframe\">\n",
       "  <thead>\n",
       "    <tr style=\"text-align: right;\">\n",
       "      <th></th>\n",
       "      <th>isbn</th>\n",
       "      <th>title</th>\n",
       "      <th>author</th>\n",
       "      <th>year</th>\n",
       "      <th>publisher</th>\n",
       "      <th>user_id</th>\n",
       "      <th>rating</th>\n",
       "    </tr>\n",
       "  </thead>\n",
       "  <tbody>\n",
       "    <tr>\n",
       "      <th>0</th>\n",
       "      <td>0002005018</td>\n",
       "      <td>Clara Callan</td>\n",
       "      <td>Richard Bruce Wright</td>\n",
       "      <td>2001</td>\n",
       "      <td>HarperFlamingo Canada</td>\n",
       "      <td>8</td>\n",
       "      <td>5</td>\n",
       "    </tr>\n",
       "    <tr>\n",
       "      <th>1</th>\n",
       "      <td>0002005018</td>\n",
       "      <td>Clara Callan</td>\n",
       "      <td>Richard Bruce Wright</td>\n",
       "      <td>2001</td>\n",
       "      <td>HarperFlamingo Canada</td>\n",
       "      <td>11676</td>\n",
       "      <td>8</td>\n",
       "    </tr>\n",
       "    <tr>\n",
       "      <th>2</th>\n",
       "      <td>0002005018</td>\n",
       "      <td>Clara Callan</td>\n",
       "      <td>Richard Bruce Wright</td>\n",
       "      <td>2001</td>\n",
       "      <td>HarperFlamingo Canada</td>\n",
       "      <td>67544</td>\n",
       "      <td>8</td>\n",
       "    </tr>\n",
       "    <tr>\n",
       "      <th>3</th>\n",
       "      <td>0002005018</td>\n",
       "      <td>Clara Callan</td>\n",
       "      <td>Richard Bruce Wright</td>\n",
       "      <td>2001</td>\n",
       "      <td>HarperFlamingo Canada</td>\n",
       "      <td>116866</td>\n",
       "      <td>9</td>\n",
       "    </tr>\n",
       "    <tr>\n",
       "      <th>4</th>\n",
       "      <td>0002005018</td>\n",
       "      <td>Clara Callan</td>\n",
       "      <td>Richard Bruce Wright</td>\n",
       "      <td>2001</td>\n",
       "      <td>HarperFlamingo Canada</td>\n",
       "      <td>123629</td>\n",
       "      <td>9</td>\n",
       "    </tr>\n",
       "  </tbody>\n",
       "</table>\n",
       "</div>"
      ],
      "text/plain": [
       "         isbn         title                author  year  \\\n",
       "0  0002005018  Clara Callan  Richard Bruce Wright  2001   \n",
       "1  0002005018  Clara Callan  Richard Bruce Wright  2001   \n",
       "2  0002005018  Clara Callan  Richard Bruce Wright  2001   \n",
       "3  0002005018  Clara Callan  Richard Bruce Wright  2001   \n",
       "4  0002005018  Clara Callan  Richard Bruce Wright  2001   \n",
       "\n",
       "               publisher  user_id  rating  \n",
       "0  HarperFlamingo Canada        8       5  \n",
       "1  HarperFlamingo Canada    11676       8  \n",
       "2  HarperFlamingo Canada    67544       8  \n",
       "3  HarperFlamingo Canada   116866       9  \n",
       "4  HarperFlamingo Canada   123629       9  "
      ]
     },
     "execution_count": 16,
     "metadata": {},
     "output_type": "execute_result"
    }
   ],
   "source": [
    "book_rating = books.merge(ratings_1_10,how='inner', on='isbn')\n",
    "book_rating.head()"
   ]
  },
  {
   "cell_type": "markdown",
   "id": "c567db95",
   "metadata": {
    "pycharm": {
     "name": "#%% md\n"
    }
   },
   "source": [
    "### Let's calculate the count of ratings and keep only books with at least 10 ratings, so that the dataset isn't that massive"
   ]
  },
  {
   "cell_type": "markdown",
   "id": "3db41467",
   "metadata": {
    "pycharm": {
     "name": "#%% md\n"
    }
   },
   "source": [
    "pros: Better performance, but worse recommendation \n",
    "\n",
    "cons: We keep recommending the same popular books (but that's a problem of long tail distributions in general I suppose)"
   ]
  },
  {
   "cell_type": "code",
   "execution_count": 17,
   "id": "f0ee782d",
   "metadata": {
    "pycharm": {
     "name": "#%%\n"
    }
   },
   "outputs": [
    {
     "name": "stdout",
     "output_type": "stream",
     "text": [
      "              isbn  rating_counts\n",
      "21945   0316666343            707\n",
      "117744  0971880107            581\n",
      "38819   0385504209            487\n",
      "18058   0312195516            383\n",
      "4131    0060928336            320\n",
      "...            ...            ...\n",
      "63116   0553100130              1\n",
      "63110   0553099817              1\n",
      "63109   0553099809              1\n",
      "63107   0553099744              1\n",
      "149834  B000234N3A              1\n",
      "\n",
      "[149835 rows x 2 columns]\n"
     ]
    }
   ],
   "source": [
    "rating_counts = book_rating.groupby(by='isbn')['rating'].count().reset_index()\n",
    "rating_counts = rating_counts.rename(columns={'rating':'rating_counts'})\n",
    "\n",
    "print(rating_counts.sort_values('rating_counts',ascending=False))"
   ]
  },
  {
   "cell_type": "markdown",
   "id": "a3d0a882",
   "metadata": {
    "pycharm": {
     "name": "#%% md\n"
    }
   },
   "source": [
    "Repeating EDA step (but for the context)"
   ]
  },
  {
   "cell_type": "code",
   "execution_count": 18,
   "id": "5edf3f1b",
   "metadata": {
    "pycharm": {
     "name": "#%%\n"
    }
   },
   "outputs": [
    {
     "data": {
      "text/html": [
       "<div>\n",
       "<style scoped>\n",
       "    .dataframe tbody tr th:only-of-type {\n",
       "        vertical-align: middle;\n",
       "    }\n",
       "\n",
       "    .dataframe tbody tr th {\n",
       "        vertical-align: top;\n",
       "    }\n",
       "\n",
       "    .dataframe thead th {\n",
       "        text-align: right;\n",
       "    }\n",
       "</style>\n",
       "<table border=\"1\" class=\"dataframe\">\n",
       "  <thead>\n",
       "    <tr style=\"text-align: right;\">\n",
       "      <th></th>\n",
       "      <th>rating_counts</th>\n",
       "    </tr>\n",
       "  </thead>\n",
       "  <tbody>\n",
       "    <tr>\n",
       "      <th>count</th>\n",
       "      <td>149835.000000</td>\n",
       "    </tr>\n",
       "    <tr>\n",
       "      <th>mean</th>\n",
       "      <td>2.561758</td>\n",
       "    </tr>\n",
       "    <tr>\n",
       "      <th>std</th>\n",
       "      <td>7.505586</td>\n",
       "    </tr>\n",
       "    <tr>\n",
       "      <th>min</th>\n",
       "      <td>1.000000</td>\n",
       "    </tr>\n",
       "    <tr>\n",
       "      <th>25%</th>\n",
       "      <td>1.000000</td>\n",
       "    </tr>\n",
       "    <tr>\n",
       "      <th>50%</th>\n",
       "      <td>1.000000</td>\n",
       "    </tr>\n",
       "    <tr>\n",
       "      <th>75%</th>\n",
       "      <td>2.000000</td>\n",
       "    </tr>\n",
       "    <tr>\n",
       "      <th>max</th>\n",
       "      <td>707.000000</td>\n",
       "    </tr>\n",
       "  </tbody>\n",
       "</table>\n",
       "</div>"
      ],
      "text/plain": [
       "       rating_counts\n",
       "count  149835.000000\n",
       "mean        2.561758\n",
       "std         7.505586\n",
       "min         1.000000\n",
       "25%         1.000000\n",
       "50%         1.000000\n",
       "75%         2.000000\n",
       "max       707.000000"
      ]
     },
     "execution_count": 18,
     "metadata": {},
     "output_type": "execute_result"
    }
   ],
   "source": [
    "rating_counts[['rating_counts']].describe()"
   ]
  },
  {
   "cell_type": "markdown",
   "id": "82a2f76d",
   "metadata": {
    "pycharm": {
     "name": "#%% md\n"
    }
   },
   "source": [
    "How many recommendations in the higher percentiles? 1% of books gets more than 24 recommendations. Keeping >=10 is  ***3%*** of books"
   ]
  },
  {
   "cell_type": "code",
   "execution_count": 19,
   "id": "a96c25df",
   "metadata": {
    "pycharm": {
     "name": "#%%\n"
    }
   },
   "outputs": [
    {
     "data": {
      "text/plain": [
       "0.80     2.0\n",
       "0.81     2.0\n",
       "0.82     3.0\n",
       "0.83     3.0\n",
       "0.84     3.0\n",
       "0.85     3.0\n",
       "0.86     3.0\n",
       "0.87     3.0\n",
       "0.88     4.0\n",
       "0.89     4.0\n",
       "0.90     4.0\n",
       "0.91     5.0\n",
       "0.92     5.0\n",
       "0.93     6.0\n",
       "0.94     6.0\n",
       "0.95     7.0\n",
       "0.96     9.0\n",
       "0.97    11.0\n",
       "0.98    15.0\n",
       "0.99    24.0\n",
       "Name: rating_counts, dtype: float64"
      ]
     },
     "execution_count": 19,
     "metadata": {},
     "output_type": "execute_result"
    }
   ],
   "source": [
    "rating_counts['rating_counts'].quantile(np.arange(0.8, 1, 0.01))"
   ]
  },
  {
   "cell_type": "markdown",
   "id": "ce86ae65",
   "metadata": {
    "pycharm": {
     "name": "#%% md\n"
    }
   },
   "source": [
    "#### Filter out the rating of books with >= 10 ratings and merge with rating dataframe"
   ]
  },
  {
   "cell_type": "code",
   "execution_count": 20,
   "id": "5a5ee883",
   "metadata": {
    "pycharm": {
     "name": "#%%\n"
    }
   },
   "outputs": [
    {
     "data": {
      "text/html": [
       "<div>\n",
       "<style scoped>\n",
       "    .dataframe tbody tr th:only-of-type {\n",
       "        vertical-align: middle;\n",
       "    }\n",
       "\n",
       "    .dataframe tbody tr th {\n",
       "        vertical-align: top;\n",
       "    }\n",
       "\n",
       "    .dataframe thead th {\n",
       "        text-align: right;\n",
       "    }\n",
       "</style>\n",
       "<table border=\"1\" class=\"dataframe\">\n",
       "  <thead>\n",
       "    <tr style=\"text-align: right;\">\n",
       "      <th></th>\n",
       "      <th>isbn</th>\n",
       "      <th>rating_counts</th>\n",
       "      <th>title</th>\n",
       "      <th>author</th>\n",
       "      <th>year</th>\n",
       "      <th>publisher</th>\n",
       "      <th>user_id</th>\n",
       "      <th>rating</th>\n",
       "    </tr>\n",
       "  </thead>\n",
       "  <tbody>\n",
       "    <tr>\n",
       "      <th>0</th>\n",
       "      <td>0002558122</td>\n",
       "      <td>10</td>\n",
       "      <td>Angelas Ashes</td>\n",
       "      <td>Frank Mccourt</td>\n",
       "      <td>0</td>\n",
       "      <td>Harpercollins Australia</td>\n",
       "      <td>11676</td>\n",
       "      <td>8</td>\n",
       "    </tr>\n",
       "    <tr>\n",
       "      <th>1</th>\n",
       "      <td>0002558122</td>\n",
       "      <td>10</td>\n",
       "      <td>Angelas Ashes</td>\n",
       "      <td>Frank Mccourt</td>\n",
       "      <td>0</td>\n",
       "      <td>Harpercollins Australia</td>\n",
       "      <td>71837</td>\n",
       "      <td>10</td>\n",
       "    </tr>\n",
       "    <tr>\n",
       "      <th>2</th>\n",
       "      <td>0002558122</td>\n",
       "      <td>10</td>\n",
       "      <td>Angelas Ashes</td>\n",
       "      <td>Frank Mccourt</td>\n",
       "      <td>0</td>\n",
       "      <td>Harpercollins Australia</td>\n",
       "      <td>81274</td>\n",
       "      <td>8</td>\n",
       "    </tr>\n",
       "    <tr>\n",
       "      <th>3</th>\n",
       "      <td>0002558122</td>\n",
       "      <td>10</td>\n",
       "      <td>Angelas Ashes</td>\n",
       "      <td>Frank Mccourt</td>\n",
       "      <td>0</td>\n",
       "      <td>Harpercollins Australia</td>\n",
       "      <td>131398</td>\n",
       "      <td>9</td>\n",
       "    </tr>\n",
       "    <tr>\n",
       "      <th>4</th>\n",
       "      <td>0002558122</td>\n",
       "      <td>10</td>\n",
       "      <td>Angelas Ashes</td>\n",
       "      <td>Frank Mccourt</td>\n",
       "      <td>0</td>\n",
       "      <td>Harpercollins Australia</td>\n",
       "      <td>191521</td>\n",
       "      <td>9</td>\n",
       "    </tr>\n",
       "    <tr>\n",
       "      <th>5</th>\n",
       "      <td>0002558122</td>\n",
       "      <td>10</td>\n",
       "      <td>Angelas Ashes</td>\n",
       "      <td>Frank Mccourt</td>\n",
       "      <td>0</td>\n",
       "      <td>Harpercollins Australia</td>\n",
       "      <td>196118</td>\n",
       "      <td>8</td>\n",
       "    </tr>\n",
       "    <tr>\n",
       "      <th>6</th>\n",
       "      <td>0002558122</td>\n",
       "      <td>10</td>\n",
       "      <td>Angelas Ashes</td>\n",
       "      <td>Frank Mccourt</td>\n",
       "      <td>0</td>\n",
       "      <td>Harpercollins Australia</td>\n",
       "      <td>201537</td>\n",
       "      <td>8</td>\n",
       "    </tr>\n",
       "    <tr>\n",
       "      <th>7</th>\n",
       "      <td>0002558122</td>\n",
       "      <td>10</td>\n",
       "      <td>Angelas Ashes</td>\n",
       "      <td>Frank Mccourt</td>\n",
       "      <td>0</td>\n",
       "      <td>Harpercollins Australia</td>\n",
       "      <td>202664</td>\n",
       "      <td>8</td>\n",
       "    </tr>\n",
       "    <tr>\n",
       "      <th>8</th>\n",
       "      <td>0002558122</td>\n",
       "      <td>10</td>\n",
       "      <td>Angelas Ashes</td>\n",
       "      <td>Frank Mccourt</td>\n",
       "      <td>0</td>\n",
       "      <td>Harpercollins Australia</td>\n",
       "      <td>216420</td>\n",
       "      <td>5</td>\n",
       "    </tr>\n",
       "    <tr>\n",
       "      <th>9</th>\n",
       "      <td>0002558122</td>\n",
       "      <td>10</td>\n",
       "      <td>Angelas Ashes</td>\n",
       "      <td>Frank Mccourt</td>\n",
       "      <td>0</td>\n",
       "      <td>Harpercollins Australia</td>\n",
       "      <td>236173</td>\n",
       "      <td>9</td>\n",
       "    </tr>\n",
       "    <tr>\n",
       "      <th>10</th>\n",
       "      <td>000648302X</td>\n",
       "      <td>10</td>\n",
       "      <td>Before and After</td>\n",
       "      <td>Matthew Thomas</td>\n",
       "      <td>1999</td>\n",
       "      <td>HarperCollins (UK)</td>\n",
       "      <td>11676</td>\n",
       "      <td>8</td>\n",
       "    </tr>\n",
       "    <tr>\n",
       "      <th>11</th>\n",
       "      <td>000648302X</td>\n",
       "      <td>10</td>\n",
       "      <td>Before and After</td>\n",
       "      <td>Matthew Thomas</td>\n",
       "      <td>1999</td>\n",
       "      <td>HarperCollins (UK)</td>\n",
       "      <td>37950</td>\n",
       "      <td>9</td>\n",
       "    </tr>\n",
       "    <tr>\n",
       "      <th>12</th>\n",
       "      <td>000648302X</td>\n",
       "      <td>10</td>\n",
       "      <td>Before and After</td>\n",
       "      <td>Matthew Thomas</td>\n",
       "      <td>1999</td>\n",
       "      <td>HarperCollins (UK)</td>\n",
       "      <td>89624</td>\n",
       "      <td>9</td>\n",
       "    </tr>\n",
       "    <tr>\n",
       "      <th>13</th>\n",
       "      <td>000648302X</td>\n",
       "      <td>10</td>\n",
       "      <td>Before and After</td>\n",
       "      <td>Matthew Thomas</td>\n",
       "      <td>1999</td>\n",
       "      <td>HarperCollins (UK)</td>\n",
       "      <td>99328</td>\n",
       "      <td>3</td>\n",
       "    </tr>\n",
       "    <tr>\n",
       "      <th>14</th>\n",
       "      <td>000648302X</td>\n",
       "      <td>10</td>\n",
       "      <td>Before and After</td>\n",
       "      <td>Matthew Thomas</td>\n",
       "      <td>1999</td>\n",
       "      <td>HarperCollins (UK)</td>\n",
       "      <td>119654</td>\n",
       "      <td>8</td>\n",
       "    </tr>\n",
       "  </tbody>\n",
       "</table>\n",
       "</div>"
      ],
      "text/plain": [
       "          isbn  rating_counts             title          author  year  \\\n",
       "0   0002558122             10     Angelas Ashes   Frank Mccourt     0   \n",
       "1   0002558122             10     Angelas Ashes   Frank Mccourt     0   \n",
       "2   0002558122             10     Angelas Ashes   Frank Mccourt     0   \n",
       "3   0002558122             10     Angelas Ashes   Frank Mccourt     0   \n",
       "4   0002558122             10     Angelas Ashes   Frank Mccourt     0   \n",
       "5   0002558122             10     Angelas Ashes   Frank Mccourt     0   \n",
       "6   0002558122             10     Angelas Ashes   Frank Mccourt     0   \n",
       "7   0002558122             10     Angelas Ashes   Frank Mccourt     0   \n",
       "8   0002558122             10     Angelas Ashes   Frank Mccourt     0   \n",
       "9   0002558122             10     Angelas Ashes   Frank Mccourt     0   \n",
       "10  000648302X             10  Before and After  Matthew Thomas  1999   \n",
       "11  000648302X             10  Before and After  Matthew Thomas  1999   \n",
       "12  000648302X             10  Before and After  Matthew Thomas  1999   \n",
       "13  000648302X             10  Before and After  Matthew Thomas  1999   \n",
       "14  000648302X             10  Before and After  Matthew Thomas  1999   \n",
       "\n",
       "                  publisher  user_id  rating  \n",
       "0   Harpercollins Australia    11676       8  \n",
       "1   Harpercollins Australia    71837      10  \n",
       "2   Harpercollins Australia    81274       8  \n",
       "3   Harpercollins Australia   131398       9  \n",
       "4   Harpercollins Australia   191521       9  \n",
       "5   Harpercollins Australia   196118       8  \n",
       "6   Harpercollins Australia   201537       8  \n",
       "7   Harpercollins Australia   202664       8  \n",
       "8   Harpercollins Australia   216420       5  \n",
       "9   Harpercollins Australia   236173       9  \n",
       "10       HarperCollins (UK)    11676       8  \n",
       "11       HarperCollins (UK)    37950       9  \n",
       "12       HarperCollins (UK)    89624       9  \n",
       "13       HarperCollins (UK)    99328       3  \n",
       "14       HarperCollins (UK)   119654       8  "
      ]
     },
     "execution_count": 20,
     "metadata": {},
     "output_type": "execute_result"
    }
   ],
   "source": [
    "rating_counts = rating_counts.loc[rating_counts['rating_counts']>=10]\n",
    "book_rating_10plus = rating_counts.merge(book_rating,on='isbn',how='inner')\n",
    "\n",
    "book_rating_10plus = book_rating_10plus.drop_duplicates(['user_id','title'])\n",
    "book_rating_10plus.head(15)"
   ]
  },
  {
   "cell_type": "markdown",
   "id": "c89c903a",
   "metadata": {
    "pycharm": {
     "name": "#%% md\n"
    }
   },
   "source": [
    "### Utility matrix preparation"
   ]
  },
  {
   "cell_type": "markdown",
   "id": "44442781",
   "metadata": {
    "pycharm": {
     "name": "#%% md\n"
    }
   },
   "source": [
    "**Flaw**: I used book title as index instead of ISBN (I only realized at the end of the task that some titles might not be unique). If I did it over again, I would pivot by ISBN and later would figure out the mapping the recommendations of ISBN to its book title."
   ]
  },
  {
   "cell_type": "code",
   "execution_count": 21,
   "id": "8cb47af3",
   "metadata": {
    "pycharm": {
     "name": "#%%\n"
    }
   },
   "outputs": [
    {
     "name": "stdout",
     "output_type": "stream",
     "text": [
      "unique titles:  4843\n",
      "unique ISBNs:  5444\n"
     ]
    }
   ],
   "source": [
    "# length: 4843\n",
    "print(\"unique titles: \",book_rating_10plus['title'].drop_duplicates().shape[0])\n",
    "# length: 5444\n",
    "print(\"unique ISBNs: \", book_rating_10plus['isbn'].drop_duplicates().shape[0])"
   ]
  },
  {
   "cell_type": "markdown",
   "id": "780541a6",
   "metadata": {
    "pycharm": {
     "name": "#%% md\n"
    }
   },
   "source": [
    "#### It's necessary to center the user vectors by substracting the row mean (because cosine similarity would treat the 0 values as negative rating)"
   ]
  },
  {
   "cell_type": "code",
   "execution_count": 22,
   "id": "52877b51",
   "metadata": {
    "pycharm": {
     "name": "#%%\n"
    }
   },
   "outputs": [],
   "source": [
    "pivot = book_rating_10plus.pivot_table(columns='user_id', index='title', values=\"rating\")\n",
    "pivot = pivot.sub(pivot.mean(axis=1), axis=0)\n",
    "pivot = pivot.fillna(0)"
   ]
  },
  {
   "cell_type": "markdown",
   "id": "8ab6ff65",
   "metadata": {
    "pycharm": {
     "name": "#%% md\n"
    }
   },
   "source": [
    "#### Check that the row vectors are centered:"
   ]
  },
  {
   "cell_type": "code",
   "execution_count": 23,
   "id": "1a862bab",
   "metadata": {
    "pycharm": {
     "name": "#%%\n"
    }
   },
   "outputs": [
    {
     "data": {
      "text/plain": [
       "title\n",
       "'Salem's Lot                                                                 -0.000000\n",
       "10 Lb. Penalty                                                                0.000000\n",
       "100 Selected Poems by E. E. Cummings                                         -0.000000\n",
       "14,000 Things to Be Happy About                                              -0.000000\n",
       "16 Lighthouse Road                                                            0.000000\n",
       "                                                                               ...    \n",
       "\\O\\\" Is for Outlaw\"                                                          -0.000000\n",
       "\\Surely You're Joking, Mr. Feynman!\\\": Adventures of a Curious Character\"     0.000000\n",
       "e                                                                             0.000000\n",
       "iI Paradiso Degli Orchi                                                      -0.000000\n",
       "stardust                                                                      0.000000\n",
       "Length: 4843, dtype: object"
      ]
     },
     "execution_count": 23,
     "metadata": {},
     "output_type": "execute_result"
    }
   ],
   "source": [
    "pivot.mean(axis=1).apply(lambda x: format(x, 'f'))"
   ]
  },
  {
   "cell_type": "markdown",
   "id": "fabbe114",
   "metadata": {
    "pycharm": {
     "name": "#%% md\n"
    }
   },
   "source": [
    "## Approach 1: Item-based collaborative filtering \n",
    "Using the centered cosine similarity (Pearson coefficient). Returning recommendations based on book title input\n",
    "\n",
    "#### Implemented using:\n",
    "1. Cosine_similarity\n",
    "2. KNearestNeighbors"
   ]
  },
  {
   "cell_type": "markdown",
   "id": "7e44ce2c",
   "metadata": {
    "pycharm": {
     "name": "#%% md\n"
    }
   },
   "source": [
    "### Option 1: cosine_similarity (item-item)"
   ]
  },
  {
   "cell_type": "code",
   "execution_count": 24,
   "id": "5d89e892",
   "metadata": {
    "pycharm": {
     "name": "#%%\n"
    }
   },
   "outputs": [],
   "source": [
    "sim_matrix = cosine_similarity(pivot)\n",
    "sim_matrix_df = pd.DataFrame(sim_matrix, index=pivot.index, columns=pivot.index)\n",
    "\n",
    "def get_recommendations_01(book_index, sim_matrix_df, n=20):\n",
    "    if book_index in sim_matrix_df.index:\n",
    "\n",
    "        cosine_sim_series = sim_matrix_df.loc[book_index]\n",
    "        sorted_similarities = cosine_sim_series.sort_values(ascending=False)\n",
    "        print('Book recommendations for {0}:\\n'.format(book_index))\n",
    "        print (sorted_similarities[1:n+1])\n",
    "        \n",
    "    else: print(\"This book is not in the dataset\")"
   ]
  },
  {
   "cell_type": "markdown",
   "id": "90e1e3fb",
   "metadata": {
    "pycharm": {
     "name": "#%% md\n"
    }
   },
   "source": [
    "#### Recommendation examples"
   ]
  },
  {
   "cell_type": "code",
   "execution_count": 25,
   "id": "ce69d303",
   "metadata": {
    "pycharm": {
     "name": "#%%\n"
    },
    "scrolled": false
   },
   "outputs": [
    {
     "name": "stdout",
     "output_type": "stream",
     "text": [
      "Book recommendations for 1984:\n",
      "\n",
      "title\n",
      "A Brief History of Time : The Updated and Expanded Tenth Anniversary Edition    0.160000\n",
      "Days Are Just Packed : A Calvin and Hobbes Collection (Calvin and Hobbes)       0.155354\n",
      "The Calvin and Hobbes Tenth Anniversary Book                                    0.152781\n",
      "Brave New World                                                                 0.129677\n",
      "Animal Farm                                                                     0.120229\n",
      "Attack Of The Deranged Mutant Killer Snow Goons                                 0.116664\n",
      "The Rosewood Casket                                                             0.108717\n",
      "Wherever You Go, There You Are : Mindfulness Meditation in Everyday Life        0.104183\n",
      "The Adventures of Huckleberry Finn (Penguin Classics)                           0.093534\n",
      "Even Cowgirls Get the Blues                                                     0.093354\n",
      "Special Delivery: A Novel                                                       0.085604\n",
      "The Grapes of Wrath (20th Century Classics)                                     0.085053\n",
      "The Virgin Suicides                                                             0.082071\n",
      "Candide (Candide)                                                               0.081258\n",
      "The Wishsong of Shannara                                                        0.078872\n",
      "Ralph's Party                                                                   0.077665\n",
      "Franny and Zooey                                                                0.077569\n",
      "Scarlet Letter                                                                  0.076601\n",
      "Daybreak                                                                        0.075920\n",
      "Xanth 15: The Color of Her Panties                                              0.075839\n",
      "Name: 1984, dtype: float64\n",
      "\n",
      "\n",
      "Book recommendations for The Catcher in the Rye:\n",
      "\n",
      "title\n",
      "The Rosewood Casket                                                                                     0.162264\n",
      "Jane Eyre (Puffin Classics)                                                                             0.141950\n",
      "Creed for the Third Millennium                                                                          0.128367\n",
      "Being a Green Mother (Incarnations of Immortality (Paperback))                                          0.111138\n",
      "Soul Stories                                                                                            0.110227\n",
      "For Love of Evil : Book Six of Incarnations of Immortality (Incarnations of Immortality (Paperback))    0.105989\n",
      "Vittorio the Vampire: New Tales of the Vampires                                                         0.103897\n",
      "Merrick (Vampire/Witches Chronicles)                                                                    0.101679\n",
      "Lasher: Lives of the Mayfair Witches (Lives of the Mayfair Witches)                                     0.100355\n",
      "Swan Song                                                                                               0.098487\n",
      "Speaker for the Dead (Ender Wiggins Saga (Paperback))                                                   0.097568\n",
      "Holes (Newbery Medal Book)                                                                              0.095973\n",
      "The Member of the Wedding                                                                               0.094451\n",
      "A Night Without Armor : Poems                                                                           0.094328\n",
      "The Passion                                                                                             0.094174\n",
      "Without Pity : Ann Rule's Most Dangerous Killers                                                        0.093585\n",
      "Steppenwolf                                                                                             0.092077\n",
      "In the Forests of the Night (Laurel Leaf Books)                                                         0.081030\n",
      "Bearing an Hourglass (Incarnations of Immortality (Paperback))                                          0.080899\n",
      "On a Pale Horse (Incarnations of Immortality, Bk. 1)                                                    0.076876\n",
      "Name: The Catcher in the Rye, dtype: float64\n",
      "\n",
      "\n",
      "Book recommendations for Fahrenheit 451:\n",
      "\n",
      "title\n",
      "Among the Hidden                                                                                                     0.133079\n",
      "Franny and Zooey                                                                                                     0.117644\n",
      "One Day in the Life of Ivan Denisovich (Signet Classics (Paperback))                                                 0.112482\n",
      "Blood and Gold (Rice, Anne, Vampire Chronicles.)                                                                     0.102794\n",
      "Keeping Faith : A Novel                                                                                              0.101116\n",
      "Tick Tock                                                                                                            0.091480\n",
      "The Virgin Suicides                                                                                                  0.091459\n",
      "Kitchen                                                                                                              0.084034\n",
      "Brave New World                                                                                                      0.083656\n",
      "The Outlaws of Sherwood                                                                                              0.080289\n",
      "The Grapes of Wrath (20th Century Classics)                                                                          0.079228\n",
      "Tale of Two Cities (Bantam Classic)                                                                                  0.074808\n",
      "About a Boy (Movie Tie-In)                                                                                           0.069458\n",
      "Doctor Zhivago                                                                                                       0.065689\n",
      "The Last Command (Star Wars: The Thrawn Trilogy, Vol. 3)                                                             0.065462\n",
      "The Unbearable Lightness of Being : A Novel (Perennial Classics)                                                     0.064976\n",
      "Breakfast of Champions                                                                                               0.063477\n",
      "The Illustrated Man (Grand Master Editions)                                                                          0.062272\n",
      "From the Dust Returned: A Novel                                                                                      0.058129\n",
      "Sent by Earth: A Message from the Grandmother Spirit After the Bombing of the World Trade Center and the Pentagon    0.057590\n",
      "Name: Fahrenheit 451, dtype: float64\n"
     ]
    }
   ],
   "source": [
    "get_recommendations_01('1984', sim_matrix_df,n=20)\n",
    "print('\\n')\n",
    "get_recommendations_01(\"The Catcher in the Rye\",sim_matrix_df,n=20)\n",
    "print('\\n')\n",
    "get_recommendations_01(\"Fahrenheit 451\", sim_matrix_df, n=20)"
   ]
  },
  {
   "cell_type": "markdown",
   "id": "c6de753d",
   "metadata": {
    "pycharm": {
     "name": "#%% md\n"
    }
   },
   "source": [
    "### Option 2: KNearestNeighbors"
   ]
  },
  {
   "cell_type": "markdown",
   "id": "8218a1c0",
   "metadata": {
    "pycharm": {
     "name": "#%% md\n"
    }
   },
   "source": [
    "I'll be using sparse matrix to optimize performance\n",
    "\n",
    "I'm using brute force algorithm, centered cosine similarity (=pearson coeff.) as my distance metric, with default number of neighbors = 10"
   ]
  },
  {
   "cell_type": "code",
   "execution_count": 26,
   "id": "2d876904",
   "metadata": {
    "pycharm": {
     "name": "#%%\n"
    }
   },
   "outputs": [
    {
     "data": {
      "text/plain": [
       "NearestNeighbors(algorithm='brute', metric='cosine', n_neighbors=10)"
      ]
     },
     "execution_count": 26,
     "metadata": {},
     "output_type": "execute_result"
    }
   ],
   "source": [
    "utility_matrix = csr_matrix(pivot.values)\n",
    "\n",
    "model_knn = NearestNeighbors(metric='cosine', algorithm='brute',n_neighbors=10)\n",
    "model_knn.fit(utility_matrix)"
   ]
  },
  {
   "cell_type": "code",
   "execution_count": 27,
   "id": "11e682ca",
   "metadata": {
    "pycharm": {
     "name": "#%%\n"
    }
   },
   "outputs": [],
   "source": [
    "def get_recommendations_knn(book_index):\n",
    "    if book_index in pivot.index.get_level_values('title'):\n",
    "        distances, indices = model_knn.kneighbors(pivot.loc[book_index, :].values.reshape(1, -1),n_neighbors=20)\n",
    "\n",
    "        for i in range(0, len(distances.flatten())):\n",
    "            if i == 0: #the chosen book itself always comes as the first in the list\n",
    "                print('Recommendations for {0}:\\n'.format(book_index))\n",
    "            else:\n",
    "                print('{0}: {1}, with distance of {2}:'.format(i, pivot.index[indices.flatten()[i]],\n",
    "                                                           distances.flatten()[i]))\n",
    "    else: print(\"This book is not in the dataset\")"
   ]
  },
  {
   "cell_type": "markdown",
   "id": "ada17198",
   "metadata": {
    "pycharm": {
     "name": "#%% md\n"
    }
   },
   "source": [
    "#### Recommendations examples:"
   ]
  },
  {
   "cell_type": "code",
   "execution_count": 28,
   "id": "28c07e45",
   "metadata": {
    "pycharm": {
     "name": "#%%\n"
    }
   },
   "outputs": [
    {
     "name": "stdout",
     "output_type": "stream",
     "text": [
      "Recommendations for 1984:\n",
      "\n",
      "1: A Brief History of Time : The Updated and Expanded Tenth Anniversary Edition, with distance of 0.8400004725154684:\n",
      "2: Days Are Just Packed : A Calvin and Hobbes Collection (Calvin and Hobbes), with distance of 0.8446456388543221:\n",
      "3: The Calvin and Hobbes Tenth Anniversary Book, with distance of 0.8472186605454852:\n",
      "4: Brave New World, with distance of 0.8703234920700691:\n",
      "5: Animal Farm, with distance of 0.8797710665073801:\n",
      "6: Attack Of The Deranged Mutant Killer Snow Goons, with distance of 0.8833356270752649:\n",
      "7: The Rosewood Casket, with distance of 0.8912827611054058:\n",
      "8: Wherever You Go, There You Are : Mindfulness Meditation in Everyday Life, with distance of 0.8958172137902383:\n",
      "9: The Adventures of Huckleberry Finn (Penguin Classics), with distance of 0.9064664095111754:\n",
      "10: Even Cowgirls Get the Blues, with distance of 0.906645982598077:\n",
      "11: Special Delivery: A Novel, with distance of 0.914396255806775:\n",
      "12: The Grapes of Wrath (20th Century Classics), with distance of 0.9149473217929172:\n",
      "13: The Virgin Suicides, with distance of 0.91792904564189:\n",
      "14: Candide (Candide), with distance of 0.9187422198938062:\n",
      "15: The Wishsong of Shannara, with distance of 0.9211280620123341:\n",
      "16: Ralph's Party, with distance of 0.9223345145661216:\n",
      "17: Franny and Zooey, with distance of 0.9224311580060526:\n",
      "18: Scarlet Letter, with distance of 0.9233989455537033:\n",
      "19: Daybreak, with distance of 0.9240799166474256:\n",
      "\n",
      "\n",
      "Recommendations for Fahrenheit 451:\n",
      "\n",
      "1: Among the Hidden, with distance of 0.8669214388738309:\n",
      "2: Franny and Zooey, with distance of 0.8823559167553814:\n",
      "3: One Day in the Life of Ivan Denisovich (Signet Classics (Paperback)), with distance of 0.8875182777985411:\n",
      "4: Blood and Gold (Rice, Anne, Vampire Chronicles.), with distance of 0.8972058036299407:\n",
      "5: Keeping Faith : A Novel, with distance of 0.8988840978398263:\n",
      "6: Tick Tock, with distance of 0.9085202078764226:\n",
      "7: The Virgin Suicides, with distance of 0.9085412667438386:\n",
      "8: Kitchen, with distance of 0.9159664367267915:\n",
      "9: Brave New World, with distance of 0.9163443267855604:\n",
      "10: The Outlaws of Sherwood, with distance of 0.9197107487385989:\n",
      "11: The Grapes of Wrath (20th Century Classics), with distance of 0.920772451911267:\n",
      "12: Tale of Two Cities (Bantam Classic), with distance of 0.92519161466694:\n",
      "13: About a Boy (Movie Tie-In), with distance of 0.9305423898928206:\n",
      "14: Doctor Zhivago, with distance of 0.9343110754067292:\n",
      "15: The Last Command (Star Wars: The Thrawn Trilogy, Vol. 3), with distance of 0.9345379808329083:\n",
      "16: The Unbearable Lightness of Being : A Novel (Perennial Classics), with distance of 0.9350242026273247:\n",
      "17: Breakfast of Champions, with distance of 0.9365225448315359:\n",
      "18: The Illustrated Man (Grand Master Editions), with distance of 0.9377283182372922:\n",
      "19: From the Dust Returned: A Novel, with distance of 0.9418709873719013:\n",
      "\n",
      "\n",
      "Recommendations for The Catcher in the Rye:\n",
      "\n",
      "1: The Rosewood Casket, with distance of 0.8377361525650064:\n",
      "2: Jane Eyre (Puffin Classics), with distance of 0.8580497622810296:\n",
      "3: Creed for the Third Millennium, with distance of 0.8716329408414648:\n",
      "4: Being a Green Mother (Incarnations of Immortality (Paperback)), with distance of 0.8888624819764179:\n",
      "5: Soul Stories, with distance of 0.8897728750953873:\n",
      "6: For Love of Evil : Book Six of Incarnations of Immortality (Incarnations of Immortality (Paperback)), with distance of 0.8940105716663085:\n",
      "7: Vittorio the Vampire: New Tales of the Vampires, with distance of 0.8961032853983891:\n",
      "8: Merrick (Vampire/Witches Chronicles), with distance of 0.8983208861665551:\n",
      "9: Lasher: Lives of the Mayfair Witches (Lives of the Mayfair Witches), with distance of 0.8996447919463587:\n",
      "10: Swan Song, with distance of 0.9015125181105105:\n",
      "11: Speaker for the Dead (Ender Wiggins Saga (Paperback)), with distance of 0.9024321541647635:\n",
      "12: Holes (Newbery Medal Book), with distance of 0.9040266781362224:\n",
      "13: The Member of the Wedding, with distance of 0.9055489445984307:\n",
      "14: A Night Without Armor : Poems, with distance of 0.9056719668872277:\n",
      "15: The Passion, with distance of 0.9058256833786289:\n",
      "16: Without Pity : Ann Rule's Most Dangerous Killers, with distance of 0.906414892395031:\n",
      "17: Steppenwolf, with distance of 0.9079225156897388:\n",
      "18: In the Forests of the Night (Laurel Leaf Books), with distance of 0.9189700217590913:\n",
      "19: Bearing an Hourglass (Incarnations of Immortality (Paperback)), with distance of 0.9191006981647668:\n"
     ]
    }
   ],
   "source": [
    "get_recommendations_knn(\"1984\")\n",
    "print('\\n')\n",
    "get_recommendations_knn(\"Fahrenheit 451\")\n",
    "print('\\n')\n",
    "get_recommendations_knn(\"The Catcher in the Rye\")"
   ]
  },
  {
   "cell_type": "markdown",
   "id": "d05ddfb7",
   "metadata": {
    "pycharm": {
     "name": "#%% md\n"
    }
   },
   "source": [
    "## Approach 2: Matrix Factorization with SVD "
   ]
  },
  {
   "cell_type": "markdown",
   "id": "263ff12f",
   "metadata": {
    "pycharm": {
     "name": "#%% md\n"
    }
   },
   "source": [
    "### Option 1: TruncatedSVD and getting the top N most similar books (15 latent factors)"
   ]
  },
  {
   "cell_type": "code",
   "execution_count": 29,
   "id": "189dad4a",
   "metadata": {
    "pycharm": {
     "name": "#%%\n"
    },
    "scrolled": true
   },
   "outputs": [
    {
     "name": "stderr",
     "output_type": "stream",
     "text": [
      "/Users/Pavel/opt/anaconda3/envs/books/lib/python3.9/site-packages/numpy/lib/function_base.py:2691: RuntimeWarning: invalid value encountered in true_divide\n",
      "  c /= stddev[:, None]\n",
      "/Users/Pavel/opt/anaconda3/envs/books/lib/python3.9/site-packages/numpy/lib/function_base.py:2692: RuntimeWarning: invalid value encountered in true_divide\n",
      "  c /= stddev[None, :]\n"
     ]
    }
   ],
   "source": [
    "X = pivot.values\n",
    "\n",
    "SVD = TruncatedSVD(n_components=15, random_state=42)\n",
    "matrix = SVD.fit_transform(X)\n",
    "corr = np.corrcoef(matrix)\n",
    "\n",
    "book_titles = pivot.index\n",
    "books_list = list(book_titles)"
   ]
  },
  {
   "cell_type": "code",
   "execution_count": 37,
   "id": "89770df9",
   "metadata": {},
   "outputs": [
    {
     "data": {
      "text/plain": [
       "(4843, 15)"
      ]
     },
     "execution_count": 37,
     "metadata": {},
     "output_type": "execute_result"
    }
   ],
   "source": [
    "matrix.shape"
   ]
  },
  {
   "cell_type": "code",
   "execution_count": 30,
   "id": "39229873",
   "metadata": {
    "pycharm": {
     "name": "#%%\n"
    }
   },
   "outputs": [],
   "source": [
    "def get_recommendations_svd(book, n_recommendations=20):\n",
    "    if book in books_list:\n",
    "        book_index = books_list.index(book)\n",
    "        corr_book_index = corr[book_index]\n",
    "        predictions_svd = pd.DataFrame(book_titles,corr_book_index).reset_index()\n",
    "        predictions_svd = predictions_svd.rename(columns={'index':'similarity'})\n",
    "        predictions_svd = predictions_svd.sort_values('similarity', ascending=False)\n",
    "        predictions_svd = predictions_svd.reset_index(drop=True)\n",
    "        return predictions_svd.iloc[1:n_recommendations+1,:]\n",
    "    else: print(\"The book isn't in the dataset.\")"
   ]
  },
  {
   "cell_type": "code",
   "execution_count": 31,
   "id": "e6234798",
   "metadata": {
    "pycharm": {
     "name": "#%%\n"
    }
   },
   "outputs": [
    {
     "name": "stdout",
     "output_type": "stream",
     "text": [
      "Recommendations for 1984: \n",
      "     similarity                                              title\n",
      "1     0.911319                                 The Mosquito Coast\n",
      "2     0.877520                                    Brave New World\n",
      "3     0.873380                            The Club Dumas: A Novel\n",
      "4     0.868467  The Alchemist: A Fable About Following Your Dream\n",
      "5     0.858243                                      Cryptonomicon\n",
      "6     0.847466  The Reptile Room (A Series of Unfortunate Even...\n",
      "7     0.843249                                The Handmaid's Tale\n",
      "8     0.836346                      The Girl Who Loved Tom Gordon\n",
      "9     0.830189       House Atreides (Dune: House Trilogy, Book 1)\n",
      "10    0.826817                                Manhattan Hunt Club\n",
      "11    0.826211  The Sorcerer's Companion: A Guide to the Magic...\n",
      "12    0.818536                           The Wishsong of Shannara\n",
      "13    0.817781                   East of Eden (Oprah's Book Club)\n",
      "14    0.814722                                The Virgin Suicides\n",
      "15    0.811596       Dr. Death (Alex Delaware Novels (Paperback))\n",
      "16    0.811572                                          Geek Love\n",
      "17    0.810990  The Return of the Indian (Indian in the Cupboard)\n",
      "18    0.809994        Confessions of an Ugly Stepsister : A Novel\n",
      "19    0.809794                                   Die Bildhauerin.\n",
      "20    0.807905           Preludes and Nocturnes (Sandman, Book 1)\n",
      "\n",
      "\n",
      "Recommendations for Fahrenheit 451: \n",
      "     similarity                                              title\n",
      "1     0.780760  The Unbearable Lightness of Being : A Novel (P...\n",
      "2     0.774757      A Clockwork Orange (Norton Paperback Fiction)\n",
      "3     0.771070  Chicken Soup for the Christian Soul (Chicken S...\n",
      "4     0.767342          Life's Little Instruction Book; Volume II\n",
      "5     0.755035                             The Day After Tomorrow\n",
      "6     0.736461                               Rendezvous with Rama\n",
      "7     0.735802  Made in America: An Informal History of the En...\n",
      "8     0.725231                           The Prometheus Deception\n",
      "9     0.724212                                        Fat Tuesday\n",
      "10    0.722448                Howl and Other Poems (Pocket Poets)\n",
      "11    0.719151  Death Comes for the Archbishop (Vintage Classics)\n",
      "12    0.718825                                         The Return\n",
      "13    0.716598  Fox in Socks (I Can Read It All by Myself Begi...\n",
      "14    0.714574  Small Miracles: Extraordinary Coincidences fro...\n",
      "15    0.710567                          James and the Giant Peach\n",
      "16    0.703841   Irish Chain (Benni Harper Mysteries (Paperback))\n",
      "17    0.703088             Nobody's Fool (Vintage Contemporaries)\n",
      "18    0.698605                                 The Birth of Venus\n",
      "19    0.696543       Wizard's First Rule (Sword of Truth, Book 1)\n",
      "20    0.695218                                          Ringworld\n",
      "\n",
      "\n",
      "The Catcher in the Rye: \n",
      "     similarity                                              title\n",
      "1     0.988217                                        The Passion\n",
      "2     0.983862                            A Day No Pigs Would Die\n",
      "3     0.982263                Mort (Discworld Novels (Paperback))\n",
      "4     0.970740                                          Blue Mars\n",
      "5     0.969614  There's No Toilet Paper on the Road Less Trave...\n",
      "6     0.965635    In the Forests of the Night (Laurel Leaf Books)\n",
      "7     0.961053                                       Soul Stories\n",
      "8     0.943074  Being a Green Mother (Incarnations of Immortal...\n",
      "9     0.937460               Merrick (Vampire/Witches Chronicles)\n",
      "10    0.934297                     Creed for the Third Millennium\n",
      "11    0.930442                                            Phantom\n",
      "12    0.917591  Kitchen Confidential: Adventures in the Culina...\n",
      "13    0.914380  The Phantom of the Opera (Signet Classics (Pap...\n",
      "14    0.910101                                        Steppenwolf\n",
      "15    0.904264                                        Dharma Bums\n",
      "16    0.902305    The Path of Daggers (The Wheel of Time, Book 8)\n",
      "17    0.900027                                The Rosewood Casket\n",
      "18    0.896810                                         My Ishmael\n",
      "19    0.892987  Operating Instructions: A Journal of My Son's ...\n",
      "20    0.892394  For Love of Evil : Book Six of Incarnations of...\n"
     ]
    }
   ],
   "source": [
    "print(\"Recommendations for 1984: \\n\", get_recommendations_svd(\"1984\"))\n",
    "print(\"\\n\")\n",
    "print(\"Recommendations for Fahrenheit 451: \\n\", get_recommendations_svd(\"Fahrenheit 451\"))\n",
    "print(\"\\n\")\n",
    "print(\"The Catcher in the Rye: \\n\", get_recommendations_svd(\"The Catcher in the Rye\"))"
   ]
  },
  {
   "cell_type": "markdown",
   "id": "b872ddd4",
   "metadata": {
    "pycharm": {
     "name": "#%% md\n"
    }
   },
   "source": [
    "### Option 2: Getting latent factors via SVD (scipy svds) and predicting ratings for each user, then recommending the top 20 rated books for each"
   ]
  },
  {
   "cell_type": "code",
   "execution_count": 32,
   "id": "a8ba67fe",
   "metadata": {
    "pycharm": {
     "name": "#%%\n"
    }
   },
   "outputs": [],
   "source": [
    "pivot_user = book_rating_10plus.pivot_table(index='user_id', columns='title', values=\"rating\")\n",
    "\n",
    "#center the utility matrix and fill missing values\n",
    "user_ratings_mean = pivot_user.mean(axis=1)\n",
    "pivot_user = pivot_user.sub(user_ratings_mean, axis=0)\n",
    "pivot_user = pivot_user.fillna(0)"
   ]
  },
  {
   "cell_type": "markdown",
   "id": "a7c1c671",
   "metadata": {
    "pycharm": {
     "name": "#%% md\n"
    }
   },
   "source": [
    "#### Here I worked with 15 latent factors, but grid search would be the best to find the optimal k"
   ]
  },
  {
   "cell_type": "code",
   "execution_count": 33,
   "id": "9394ca80",
   "metadata": {
    "pycharm": {
     "name": "#%%\n"
    }
   },
   "outputs": [],
   "source": [
    "U, sigma, Vt = svds(pivot_user, k=15)\n",
    "\n",
    "sigma = np.diag(sigma)\n",
    "\n",
    "U_sigma = np.dot(U, sigma)\n",
    "U_sigma_Vt = np.dot(U_sigma, Vt)\n",
    "\n",
    "#decentering the ratings back so that the values are interpretable again\n",
    "predicted_ratings = U_sigma_Vt + user_ratings_mean.values.reshape(-1, 1)\n",
    "predicted_ratings_df= pd.DataFrame(predicted_ratings, index=pivot_user.index, columns=pivot_user.columns)"
   ]
  },
  {
   "cell_type": "markdown",
   "id": "581b70d6",
   "metadata": {
    "pycharm": {
     "name": "#%% md\n"
    }
   },
   "source": [
    "#### Calculating RMSE to \"evaluate\" the recommendations"
   ]
  },
  {
   "cell_type": "code",
   "execution_count": 34,
   "id": "3c990279",
   "metadata": {
    "pycharm": {
     "name": "#%%\n"
    }
   },
   "outputs": [
    {
     "name": "stdout",
     "output_type": "stream",
     "text": [
      "Root mean sq. error:  1.2283387248045692\n"
     ]
    }
   ],
   "source": [
    "# getting the initial utility matrix (raw before centering)\n",
    "pivot_nans = book_rating_10plus.pivot_table(index='user_id', columns='title', values=\"rating\")\n",
    "\n",
    "actual_values = pivot_nans.values\n",
    "predicted_values = predicted_ratings_df.values\n",
    "\n",
    "# Only consider the non-missing values\n",
    "mask = ~np.isnan(actual_values)\n",
    "\n",
    "print(\"Root mean sq. error: \", mean_squared_error(actual_values[mask], predicted_values[mask], squared=False))"
   ]
  },
  {
   "cell_type": "code",
   "execution_count": 35,
   "id": "a286de57",
   "metadata": {
    "pycharm": {
     "name": "#%%\n"
    }
   },
   "outputs": [
    {
     "data": {
      "text/html": [
       "<div>\n",
       "<style scoped>\n",
       "    .dataframe tbody tr th:only-of-type {\n",
       "        vertical-align: middle;\n",
       "    }\n",
       "\n",
       "    .dataframe tbody tr th {\n",
       "        vertical-align: top;\n",
       "    }\n",
       "\n",
       "    .dataframe thead th {\n",
       "        text-align: right;\n",
       "    }\n",
       "</style>\n",
       "<table border=\"1\" class=\"dataframe\">\n",
       "  <thead>\n",
       "    <tr style=\"text-align: right;\">\n",
       "      <th>title</th>\n",
       "      <th>'Salem's Lot</th>\n",
       "      <th>10 Lb. Penalty</th>\n",
       "      <th>100 Selected Poems by E. E. Cummings</th>\n",
       "      <th>14,000 Things to Be Happy About</th>\n",
       "      <th>16 Lighthouse Road</th>\n",
       "      <th>1984</th>\n",
       "      <th>1st to Die: A Novel</th>\n",
       "      <th>2001: A Space Odyssey</th>\n",
       "      <th>2010: Odyssey Two</th>\n",
       "      <th>203 Ways to Drive a Man Wild in Bed</th>\n",
       "      <th>...</th>\n",
       "      <th>Zen in the Art of Writing</th>\n",
       "      <th>Zodiac: The Eco-Thriller</th>\n",
       "      <th>Zombies of the Gene Pool</th>\n",
       "      <th>Zoya</th>\n",
       "      <th>ZwÃ?Â¶lf.</th>\n",
       "      <th>\\O\\\" Is for Outlaw\"</th>\n",
       "      <th>\\Surely You're Joking, Mr. Feynman!\\\": Adventures of a Curious Character\"</th>\n",
       "      <th>e</th>\n",
       "      <th>iI Paradiso Degli Orchi</th>\n",
       "      <th>stardust</th>\n",
       "    </tr>\n",
       "    <tr>\n",
       "      <th>user_id</th>\n",
       "      <th></th>\n",
       "      <th></th>\n",
       "      <th></th>\n",
       "      <th></th>\n",
       "      <th></th>\n",
       "      <th></th>\n",
       "      <th></th>\n",
       "      <th></th>\n",
       "      <th></th>\n",
       "      <th></th>\n",
       "      <th></th>\n",
       "      <th></th>\n",
       "      <th></th>\n",
       "      <th></th>\n",
       "      <th></th>\n",
       "      <th></th>\n",
       "      <th></th>\n",
       "      <th></th>\n",
       "      <th></th>\n",
       "      <th></th>\n",
       "      <th></th>\n",
       "    </tr>\n",
       "  </thead>\n",
       "  <tbody>\n",
       "    <tr>\n",
       "      <th>9</th>\n",
       "      <td>6.000000</td>\n",
       "      <td>6.000000</td>\n",
       "      <td>6.000000</td>\n",
       "      <td>6.000000</td>\n",
       "      <td>6.000000</td>\n",
       "      <td>6.000000</td>\n",
       "      <td>6.000000</td>\n",
       "      <td>6.000000</td>\n",
       "      <td>6.000000</td>\n",
       "      <td>6.000000</td>\n",
       "      <td>...</td>\n",
       "      <td>6.000000</td>\n",
       "      <td>6.000000</td>\n",
       "      <td>6.000000</td>\n",
       "      <td>6.000000</td>\n",
       "      <td>6.000000</td>\n",
       "      <td>6.000000</td>\n",
       "      <td>6.000000</td>\n",
       "      <td>6.000000</td>\n",
       "      <td>6.00000</td>\n",
       "      <td>6.000000</td>\n",
       "    </tr>\n",
       "    <tr>\n",
       "      <th>16</th>\n",
       "      <td>9.000000</td>\n",
       "      <td>9.000000</td>\n",
       "      <td>9.000000</td>\n",
       "      <td>9.000000</td>\n",
       "      <td>9.000000</td>\n",
       "      <td>9.000000</td>\n",
       "      <td>9.000000</td>\n",
       "      <td>9.000000</td>\n",
       "      <td>9.000000</td>\n",
       "      <td>9.000000</td>\n",
       "      <td>...</td>\n",
       "      <td>9.000000</td>\n",
       "      <td>9.000000</td>\n",
       "      <td>9.000000</td>\n",
       "      <td>9.000000</td>\n",
       "      <td>9.000000</td>\n",
       "      <td>9.000000</td>\n",
       "      <td>9.000000</td>\n",
       "      <td>9.000000</td>\n",
       "      <td>9.00000</td>\n",
       "      <td>9.000000</td>\n",
       "    </tr>\n",
       "    <tr>\n",
       "      <th>17</th>\n",
       "      <td>4.500013</td>\n",
       "      <td>4.499977</td>\n",
       "      <td>4.500011</td>\n",
       "      <td>4.499937</td>\n",
       "      <td>4.499857</td>\n",
       "      <td>4.499999</td>\n",
       "      <td>4.500781</td>\n",
       "      <td>4.499999</td>\n",
       "      <td>4.500007</td>\n",
       "      <td>4.499909</td>\n",
       "      <td>...</td>\n",
       "      <td>4.500010</td>\n",
       "      <td>4.499994</td>\n",
       "      <td>4.499994</td>\n",
       "      <td>4.499999</td>\n",
       "      <td>4.500003</td>\n",
       "      <td>4.500261</td>\n",
       "      <td>4.500002</td>\n",
       "      <td>4.500049</td>\n",
       "      <td>4.50000</td>\n",
       "      <td>4.499995</td>\n",
       "    </tr>\n",
       "    <tr>\n",
       "      <th>19</th>\n",
       "      <td>7.000000</td>\n",
       "      <td>7.000000</td>\n",
       "      <td>7.000000</td>\n",
       "      <td>7.000000</td>\n",
       "      <td>7.000000</td>\n",
       "      <td>7.000000</td>\n",
       "      <td>7.000000</td>\n",
       "      <td>7.000000</td>\n",
       "      <td>7.000000</td>\n",
       "      <td>7.000000</td>\n",
       "      <td>...</td>\n",
       "      <td>7.000000</td>\n",
       "      <td>7.000000</td>\n",
       "      <td>7.000000</td>\n",
       "      <td>7.000000</td>\n",
       "      <td>7.000000</td>\n",
       "      <td>7.000000</td>\n",
       "      <td>7.000000</td>\n",
       "      <td>7.000000</td>\n",
       "      <td>7.00000</td>\n",
       "      <td>7.000000</td>\n",
       "    </tr>\n",
       "    <tr>\n",
       "      <th>26</th>\n",
       "      <td>9.499902</td>\n",
       "      <td>9.499677</td>\n",
       "      <td>9.500372</td>\n",
       "      <td>9.500057</td>\n",
       "      <td>9.499817</td>\n",
       "      <td>9.508800</td>\n",
       "      <td>9.496884</td>\n",
       "      <td>9.499694</td>\n",
       "      <td>9.490535</td>\n",
       "      <td>9.496956</td>\n",
       "      <td>...</td>\n",
       "      <td>9.499954</td>\n",
       "      <td>9.499934</td>\n",
       "      <td>9.500023</td>\n",
       "      <td>9.499401</td>\n",
       "      <td>9.500018</td>\n",
       "      <td>9.497902</td>\n",
       "      <td>9.500330</td>\n",
       "      <td>9.500464</td>\n",
       "      <td>9.49999</td>\n",
       "      <td>9.499972</td>\n",
       "    </tr>\n",
       "  </tbody>\n",
       "</table>\n",
       "<p>5 rows × 4843 columns</p>\n",
       "</div>"
      ],
      "text/plain": [
       "title    'Salem's Lot  10 Lb. Penalty  100 Selected Poems by E. E. Cummings  \\\n",
       "user_id                                                                       \n",
       "9            6.000000        6.000000                              6.000000   \n",
       "16           9.000000        9.000000                              9.000000   \n",
       "17           4.500013        4.499977                              4.500011   \n",
       "19           7.000000        7.000000                              7.000000   \n",
       "26           9.499902        9.499677                              9.500372   \n",
       "\n",
       "title    14,000 Things to Be Happy About  16 Lighthouse Road      1984  \\\n",
       "user_id                                                                  \n",
       "9                               6.000000            6.000000  6.000000   \n",
       "16                              9.000000            9.000000  9.000000   \n",
       "17                              4.499937            4.499857  4.499999   \n",
       "19                              7.000000            7.000000  7.000000   \n",
       "26                              9.500057            9.499817  9.508800   \n",
       "\n",
       "title    1st to Die: A Novel  2001: A Space Odyssey  2010: Odyssey Two  \\\n",
       "user_id                                                                  \n",
       "9                   6.000000               6.000000           6.000000   \n",
       "16                  9.000000               9.000000           9.000000   \n",
       "17                  4.500781               4.499999           4.500007   \n",
       "19                  7.000000               7.000000           7.000000   \n",
       "26                  9.496884               9.499694           9.490535   \n",
       "\n",
       "title    203 Ways to Drive a Man Wild in Bed  ...  Zen in the Art of Writing  \\\n",
       "user_id                                       ...                              \n",
       "9                                   6.000000  ...                   6.000000   \n",
       "16                                  9.000000  ...                   9.000000   \n",
       "17                                  4.499909  ...                   4.500010   \n",
       "19                                  7.000000  ...                   7.000000   \n",
       "26                                  9.496956  ...                   9.499954   \n",
       "\n",
       "title    Zodiac: The Eco-Thriller  Zombies of the Gene Pool      Zoya  \\\n",
       "user_id                                                                 \n",
       "9                        6.000000                  6.000000  6.000000   \n",
       "16                       9.000000                  9.000000  9.000000   \n",
       "17                       4.499994                  4.499994  4.499999   \n",
       "19                       7.000000                  7.000000  7.000000   \n",
       "26                       9.499934                  9.500023  9.499401   \n",
       "\n",
       "title    ZwÃ?Â¶lf.  \\O\\\" Is for Outlaw\"  \\\n",
       "user_id                                   \n",
       "9         6.000000             6.000000   \n",
       "16        9.000000             9.000000   \n",
       "17        4.500003             4.500261   \n",
       "19        7.000000             7.000000   \n",
       "26        9.500018             9.497902   \n",
       "\n",
       "title    \\Surely You're Joking, Mr. Feynman!\\\": Adventures of a Curious Character\"  \\\n",
       "user_id                                                                              \n",
       "9                                                 6.000000                           \n",
       "16                                                9.000000                           \n",
       "17                                                4.500002                           \n",
       "19                                                7.000000                           \n",
       "26                                                9.500330                           \n",
       "\n",
       "title           e  iI Paradiso Degli Orchi  stardust  \n",
       "user_id                                               \n",
       "9        6.000000                  6.00000  6.000000  \n",
       "16       9.000000                  9.00000  9.000000  \n",
       "17       4.500049                  4.50000  4.499995  \n",
       "19       7.000000                  7.00000  7.000000  \n",
       "26       9.500464                  9.49999  9.499972  \n",
       "\n",
       "[5 rows x 4843 columns]"
      ]
     },
     "execution_count": 35,
     "metadata": {},
     "output_type": "execute_result"
    }
   ],
   "source": [
    "predicted_ratings_df.head()"
   ]
  },
  {
   "cell_type": "markdown",
   "id": "985bed46",
   "metadata": {
    "pycharm": {
     "name": "#%% md\n"
    }
   },
   "source": [
    "### Top 20 predicted ratings (recommendations) for each user\n",
    "This might include the books user has already read though. Would be ideal to filter out."
   ]
  },
  {
   "cell_type": "code",
   "execution_count": 36,
   "id": "6934592f",
   "metadata": {
    "pycharm": {
     "name": "#%%\n"
    },
    "scrolled": true
   },
   "outputs": [
    {
     "data": {
      "text/html": [
       "<div>\n",
       "<style scoped>\n",
       "    .dataframe tbody tr th:only-of-type {\n",
       "        vertical-align: middle;\n",
       "    }\n",
       "\n",
       "    .dataframe tbody tr th {\n",
       "        vertical-align: top;\n",
       "    }\n",
       "\n",
       "    .dataframe thead th {\n",
       "        text-align: right;\n",
       "    }\n",
       "</style>\n",
       "<table border=\"1\" class=\"dataframe\">\n",
       "  <thead>\n",
       "    <tr style=\"text-align: right;\">\n",
       "      <th></th>\n",
       "      <th>0</th>\n",
       "      <th>1</th>\n",
       "      <th>2</th>\n",
       "      <th>3</th>\n",
       "      <th>4</th>\n",
       "      <th>5</th>\n",
       "      <th>6</th>\n",
       "      <th>7</th>\n",
       "      <th>8</th>\n",
       "      <th>9</th>\n",
       "      <th>10</th>\n",
       "      <th>11</th>\n",
       "      <th>12</th>\n",
       "      <th>13</th>\n",
       "      <th>14</th>\n",
       "      <th>15</th>\n",
       "      <th>16</th>\n",
       "      <th>17</th>\n",
       "      <th>18</th>\n",
       "      <th>19</th>\n",
       "    </tr>\n",
       "  </thead>\n",
       "  <tbody>\n",
       "    <tr>\n",
       "      <th>0</th>\n",
       "      <td>stardust</td>\n",
       "      <td>Hemlock Bay</td>\n",
       "      <td>Her Daughter's Eyes</td>\n",
       "      <td>Her Father's House</td>\n",
       "      <td>Here on Earth</td>\n",
       "      <td>Here on Earth (Oprah's Book Club)</td>\n",
       "      <td>Heretics of Dune (Dune Chronicles, Book 5)</td>\n",
       "      <td>Herr Der Fliegen (Fiction, Poetry and Drama)</td>\n",
       "      <td>Herr Lehmann.</td>\n",
       "      <td>Herzsprung</td>\n",
       "      <td>Hidden Agendas (Tom Clancy's Net Force, No. 2)</td>\n",
       "      <td>Hidden Fires</td>\n",
       "      <td>Hidden Jewel (Landry)</td>\n",
       "      <td>Hidden Prey</td>\n",
       "      <td>Hidden Riches</td>\n",
       "      <td>Hidden Star  (The Stars Of Mithra) (Harlequin ...</td>\n",
       "      <td>Hidden Star (The Star Series)</td>\n",
       "      <td>Henry and June: From \\A Journal of Love\\\" -The...</td>\n",
       "      <td>Hello, Darkness</td>\n",
       "      <td>Hideaway</td>\n",
       "    </tr>\n",
       "    <tr>\n",
       "      <th>1</th>\n",
       "      <td>stardust</td>\n",
       "      <td>Hemlock Bay</td>\n",
       "      <td>Her Daughter's Eyes</td>\n",
       "      <td>Her Father's House</td>\n",
       "      <td>Here on Earth</td>\n",
       "      <td>Here on Earth (Oprah's Book Club)</td>\n",
       "      <td>Heretics of Dune (Dune Chronicles, Book 5)</td>\n",
       "      <td>Herr Der Fliegen (Fiction, Poetry and Drama)</td>\n",
       "      <td>Herr Lehmann.</td>\n",
       "      <td>Herzsprung</td>\n",
       "      <td>Hidden Agendas (Tom Clancy's Net Force, No. 2)</td>\n",
       "      <td>Hidden Fires</td>\n",
       "      <td>Hidden Jewel (Landry)</td>\n",
       "      <td>Hidden Prey</td>\n",
       "      <td>Hidden Riches</td>\n",
       "      <td>Hidden Star  (The Stars Of Mithra) (Harlequin ...</td>\n",
       "      <td>Hidden Star (The Star Series)</td>\n",
       "      <td>Henry and June: From \\A Journal of Love\\\" -The...</td>\n",
       "      <td>Hello, Darkness</td>\n",
       "      <td>Hideaway</td>\n",
       "    </tr>\n",
       "    <tr>\n",
       "      <th>2</th>\n",
       "      <td>The Notebook</td>\n",
       "      <td>Harry Potter and the Prisoner of Azkaban (Book 3)</td>\n",
       "      <td>Harry Potter and the Chamber of Secrets (Book 2)</td>\n",
       "      <td>Harry Potter and the Sorcerer's Stone (Harry P...</td>\n",
       "      <td>The Secret Life of Bees</td>\n",
       "      <td>Harry Potter and the Goblet of Fire (Book 4)</td>\n",
       "      <td>Harry Potter and the Sorcerer's Stone (Book 1)</td>\n",
       "      <td>Interview with the Vampire</td>\n",
       "      <td>Suzanne's Diary for Nicholas</td>\n",
       "      <td>Life of Pi</td>\n",
       "      <td>1st to Die: A Novel</td>\n",
       "      <td>Where the Heart Is (Oprah's Book Club (Paperba...</td>\n",
       "      <td>Everything's Eventual : 14 Dark Tales</td>\n",
       "      <td>A Child Called \\It\\\": One Child's Courage to S...</td>\n",
       "      <td>Harry Potter and the Order of the Phoenix (Boo...</td>\n",
       "      <td>Skipping Christmas</td>\n",
       "      <td>The Last Time They Met : A Novel</td>\n",
       "      <td>Left Behind: A Novel of the Earth's Last Days ...</td>\n",
       "      <td>The Fellowship of the Ring (The Lord of the Ri...</td>\n",
       "      <td>The Bridges of Madison County</td>\n",
       "    </tr>\n",
       "    <tr>\n",
       "      <th>3</th>\n",
       "      <td>stardust</td>\n",
       "      <td>Hemlock Bay</td>\n",
       "      <td>Her Daughter's Eyes</td>\n",
       "      <td>Her Father's House</td>\n",
       "      <td>Here on Earth</td>\n",
       "      <td>Here on Earth (Oprah's Book Club)</td>\n",
       "      <td>Heretics of Dune (Dune Chronicles, Book 5)</td>\n",
       "      <td>Herr Der Fliegen (Fiction, Poetry and Drama)</td>\n",
       "      <td>Herr Lehmann.</td>\n",
       "      <td>Herzsprung</td>\n",
       "      <td>Hidden Agendas (Tom Clancy's Net Force, No. 2)</td>\n",
       "      <td>Hidden Fires</td>\n",
       "      <td>Hidden Jewel (Landry)</td>\n",
       "      <td>Hidden Prey</td>\n",
       "      <td>Hidden Riches</td>\n",
       "      <td>Hidden Star  (The Stars Of Mithra) (Harlequin ...</td>\n",
       "      <td>Hidden Star (The Star Series)</td>\n",
       "      <td>Henry and June: From \\A Journal of Love\\\" -The...</td>\n",
       "      <td>Hello, Darkness</td>\n",
       "      <td>Hideaway</td>\n",
       "    </tr>\n",
       "    <tr>\n",
       "      <th>4</th>\n",
       "      <td>To Kill a Mockingbird</td>\n",
       "      <td>The Nanny Diaries: A Novel</td>\n",
       "      <td>A Prayer for Owen Meany</td>\n",
       "      <td>The Red Tent (Bestselling Backlist)</td>\n",
       "      <td>Into Thin Air : A Personal Account of the Mt. ...</td>\n",
       "      <td>Life of Pi</td>\n",
       "      <td>The Lovely Bones: A Novel</td>\n",
       "      <td>Stupid White Men ...and Other Sorry Excuses fo...</td>\n",
       "      <td>The Pilot's Wife : A Novel</td>\n",
       "      <td>Lord of the Flies</td>\n",
       "      <td>The Catcher in the Rye</td>\n",
       "      <td>The Poisonwood Bible: A Novel</td>\n",
       "      <td>Dreamcatcher</td>\n",
       "      <td>The Handmaid's Tale</td>\n",
       "      <td>A Wrinkle In Time</td>\n",
       "      <td>A Wrinkle in Time</td>\n",
       "      <td>Bel Canto: A Novel</td>\n",
       "      <td>The Drawing of the Three (The Dark Tower, Book 2)</td>\n",
       "      <td>Harry Potter and the Order of the Phoenix (Boo...</td>\n",
       "      <td>The Sweet Potato Queens' Book of Love</td>\n",
       "    </tr>\n",
       "    <tr>\n",
       "      <th>5</th>\n",
       "      <td>stardust</td>\n",
       "      <td>Hemlock Bay</td>\n",
       "      <td>Her Daughter's Eyes</td>\n",
       "      <td>Her Father's House</td>\n",
       "      <td>Here on Earth</td>\n",
       "      <td>Here on Earth (Oprah's Book Club)</td>\n",
       "      <td>Heretics of Dune (Dune Chronicles, Book 5)</td>\n",
       "      <td>Herr Der Fliegen (Fiction, Poetry and Drama)</td>\n",
       "      <td>Herr Lehmann.</td>\n",
       "      <td>Herzsprung</td>\n",
       "      <td>Hidden Agendas (Tom Clancy's Net Force, No. 2)</td>\n",
       "      <td>Hidden Fires</td>\n",
       "      <td>Hidden Jewel (Landry)</td>\n",
       "      <td>Hidden Prey</td>\n",
       "      <td>Hidden Riches</td>\n",
       "      <td>Hidden Star  (The Stars Of Mithra) (Harlequin ...</td>\n",
       "      <td>Hidden Star (The Star Series)</td>\n",
       "      <td>Henry and June: From \\A Journal of Love\\\" -The...</td>\n",
       "      <td>Hello, Darkness</td>\n",
       "      <td>Hideaway</td>\n",
       "    </tr>\n",
       "    <tr>\n",
       "      <th>6</th>\n",
       "      <td>The Poisonwood Bible: A Novel</td>\n",
       "      <td>Hannibal</td>\n",
       "      <td>The Bell Jar</td>\n",
       "      <td>The Ritual Bath (Peter Decker &amp;amp; Rina Lazar...</td>\n",
       "      <td>Empire Falls</td>\n",
       "      <td>The Reader</td>\n",
       "      <td>Timeline</td>\n",
       "      <td>The Devil's Code</td>\n",
       "      <td>The Return</td>\n",
       "      <td>The Rainmaker</td>\n",
       "      <td>The Cider House Rules</td>\n",
       "      <td>The Client</td>\n",
       "      <td>Into the Woods</td>\n",
       "      <td>Into Thin Air : A Personal Account of the Mt. ...</td>\n",
       "      <td>Blindness</td>\n",
       "      <td>Don't Stand Too Close to a Naked Man</td>\n",
       "      <td>SHIPPING NEWS</td>\n",
       "      <td>The Wedding</td>\n",
       "      <td>The Prince of Tides</td>\n",
       "      <td>Black and Blue</td>\n",
       "    </tr>\n",
       "    <tr>\n",
       "      <th>7</th>\n",
       "      <td>stardust</td>\n",
       "      <td>Hemlock Bay</td>\n",
       "      <td>Her Daughter's Eyes</td>\n",
       "      <td>Her Father's House</td>\n",
       "      <td>Here on Earth</td>\n",
       "      <td>Here on Earth (Oprah's Book Club)</td>\n",
       "      <td>Heretics of Dune (Dune Chronicles, Book 5)</td>\n",
       "      <td>Herr Der Fliegen (Fiction, Poetry and Drama)</td>\n",
       "      <td>Herr Lehmann.</td>\n",
       "      <td>Herzsprung</td>\n",
       "      <td>Hidden Agendas (Tom Clancy's Net Force, No. 2)</td>\n",
       "      <td>Hidden Fires</td>\n",
       "      <td>Hidden Jewel (Landry)</td>\n",
       "      <td>Hidden Prey</td>\n",
       "      <td>Hidden Riches</td>\n",
       "      <td>Hidden Star  (The Stars Of Mithra) (Harlequin ...</td>\n",
       "      <td>Hidden Star (The Star Series)</td>\n",
       "      <td>Henry and June: From \\A Journal of Love\\\" -The...</td>\n",
       "      <td>Hello, Darkness</td>\n",
       "      <td>Hideaway</td>\n",
       "    </tr>\n",
       "    <tr>\n",
       "      <th>8</th>\n",
       "      <td>stardust</td>\n",
       "      <td>Hemlock Bay</td>\n",
       "      <td>Her Daughter's Eyes</td>\n",
       "      <td>Her Father's House</td>\n",
       "      <td>Here on Earth</td>\n",
       "      <td>Here on Earth (Oprah's Book Club)</td>\n",
       "      <td>Heretics of Dune (Dune Chronicles, Book 5)</td>\n",
       "      <td>Herr Der Fliegen (Fiction, Poetry and Drama)</td>\n",
       "      <td>Herr Lehmann.</td>\n",
       "      <td>Herzsprung</td>\n",
       "      <td>Hidden Agendas (Tom Clancy's Net Force, No. 2)</td>\n",
       "      <td>Hidden Fires</td>\n",
       "      <td>Hidden Jewel (Landry)</td>\n",
       "      <td>Hidden Prey</td>\n",
       "      <td>Hidden Riches</td>\n",
       "      <td>Hidden Star  (The Stars Of Mithra) (Harlequin ...</td>\n",
       "      <td>Hidden Star (The Star Series)</td>\n",
       "      <td>Henry and June: From \\A Journal of Love\\\" -The...</td>\n",
       "      <td>Hello, Darkness</td>\n",
       "      <td>Hideaway</td>\n",
       "    </tr>\n",
       "    <tr>\n",
       "      <th>9</th>\n",
       "      <td>stardust</td>\n",
       "      <td>Hemlock Bay</td>\n",
       "      <td>Her Daughter's Eyes</td>\n",
       "      <td>Her Father's House</td>\n",
       "      <td>Here on Earth</td>\n",
       "      <td>Here on Earth (Oprah's Book Club)</td>\n",
       "      <td>Heretics of Dune (Dune Chronicles, Book 5)</td>\n",
       "      <td>Herr Der Fliegen (Fiction, Poetry and Drama)</td>\n",
       "      <td>Herr Lehmann.</td>\n",
       "      <td>Herzsprung</td>\n",
       "      <td>Hidden Agendas (Tom Clancy's Net Force, No. 2)</td>\n",
       "      <td>Hidden Fires</td>\n",
       "      <td>Hidden Jewel (Landry)</td>\n",
       "      <td>Hidden Prey</td>\n",
       "      <td>Hidden Riches</td>\n",
       "      <td>Hidden Star  (The Stars Of Mithra) (Harlequin ...</td>\n",
       "      <td>Hidden Star (The Star Series)</td>\n",
       "      <td>Henry and June: From \\A Journal of Love\\\" -The...</td>\n",
       "      <td>Hello, Darkness</td>\n",
       "      <td>Hideaway</td>\n",
       "    </tr>\n",
       "  </tbody>\n",
       "</table>\n",
       "</div>"
      ],
      "text/plain": [
       "                              0   \\\n",
       "0                       stardust   \n",
       "1                       stardust   \n",
       "2                   The Notebook   \n",
       "3                       stardust   \n",
       "4          To Kill a Mockingbird   \n",
       "5                       stardust   \n",
       "6  The Poisonwood Bible: A Novel   \n",
       "7                       stardust   \n",
       "8                       stardust   \n",
       "9                       stardust   \n",
       "\n",
       "                                                  1   \\\n",
       "0                                        Hemlock Bay   \n",
       "1                                        Hemlock Bay   \n",
       "2  Harry Potter and the Prisoner of Azkaban (Book 3)   \n",
       "3                                        Hemlock Bay   \n",
       "4                         The Nanny Diaries: A Novel   \n",
       "5                                        Hemlock Bay   \n",
       "6                                           Hannibal   \n",
       "7                                        Hemlock Bay   \n",
       "8                                        Hemlock Bay   \n",
       "9                                        Hemlock Bay   \n",
       "\n",
       "                                                 2   \\\n",
       "0                               Her Daughter's Eyes   \n",
       "1                               Her Daughter's Eyes   \n",
       "2  Harry Potter and the Chamber of Secrets (Book 2)   \n",
       "3                               Her Daughter's Eyes   \n",
       "4                           A Prayer for Owen Meany   \n",
       "5                               Her Daughter's Eyes   \n",
       "6                                      The Bell Jar   \n",
       "7                               Her Daughter's Eyes   \n",
       "8                               Her Daughter's Eyes   \n",
       "9                               Her Daughter's Eyes   \n",
       "\n",
       "                                                  3   \\\n",
       "0                                 Her Father's House   \n",
       "1                                 Her Father's House   \n",
       "2  Harry Potter and the Sorcerer's Stone (Harry P...   \n",
       "3                                 Her Father's House   \n",
       "4                The Red Tent (Bestselling Backlist)   \n",
       "5                                 Her Father's House   \n",
       "6  The Ritual Bath (Peter Decker &amp; Rina Lazar...   \n",
       "7                                 Her Father's House   \n",
       "8                                 Her Father's House   \n",
       "9                                 Her Father's House   \n",
       "\n",
       "                                                  4   \\\n",
       "0                                      Here on Earth   \n",
       "1                                      Here on Earth   \n",
       "2                            The Secret Life of Bees   \n",
       "3                                      Here on Earth   \n",
       "4  Into Thin Air : A Personal Account of the Mt. ...   \n",
       "5                                      Here on Earth   \n",
       "6                                       Empire Falls   \n",
       "7                                      Here on Earth   \n",
       "8                                      Here on Earth   \n",
       "9                                      Here on Earth   \n",
       "\n",
       "                                             5   \\\n",
       "0             Here on Earth (Oprah's Book Club)   \n",
       "1             Here on Earth (Oprah's Book Club)   \n",
       "2  Harry Potter and the Goblet of Fire (Book 4)   \n",
       "3             Here on Earth (Oprah's Book Club)   \n",
       "4                                    Life of Pi   \n",
       "5             Here on Earth (Oprah's Book Club)   \n",
       "6                                    The Reader   \n",
       "7             Here on Earth (Oprah's Book Club)   \n",
       "8             Here on Earth (Oprah's Book Club)   \n",
       "9             Here on Earth (Oprah's Book Club)   \n",
       "\n",
       "                                               6   \\\n",
       "0      Heretics of Dune (Dune Chronicles, Book 5)   \n",
       "1      Heretics of Dune (Dune Chronicles, Book 5)   \n",
       "2  Harry Potter and the Sorcerer's Stone (Book 1)   \n",
       "3      Heretics of Dune (Dune Chronicles, Book 5)   \n",
       "4                       The Lovely Bones: A Novel   \n",
       "5      Heretics of Dune (Dune Chronicles, Book 5)   \n",
       "6                                        Timeline   \n",
       "7      Heretics of Dune (Dune Chronicles, Book 5)   \n",
       "8      Heretics of Dune (Dune Chronicles, Book 5)   \n",
       "9      Heretics of Dune (Dune Chronicles, Book 5)   \n",
       "\n",
       "                                                  7   \\\n",
       "0       Herr Der Fliegen (Fiction, Poetry and Drama)   \n",
       "1       Herr Der Fliegen (Fiction, Poetry and Drama)   \n",
       "2                         Interview with the Vampire   \n",
       "3       Herr Der Fliegen (Fiction, Poetry and Drama)   \n",
       "4  Stupid White Men ...and Other Sorry Excuses fo...   \n",
       "5       Herr Der Fliegen (Fiction, Poetry and Drama)   \n",
       "6                                   The Devil's Code   \n",
       "7       Herr Der Fliegen (Fiction, Poetry and Drama)   \n",
       "8       Herr Der Fliegen (Fiction, Poetry and Drama)   \n",
       "9       Herr Der Fliegen (Fiction, Poetry and Drama)   \n",
       "\n",
       "                             8                  9   \\\n",
       "0                 Herr Lehmann.         Herzsprung   \n",
       "1                 Herr Lehmann.         Herzsprung   \n",
       "2  Suzanne's Diary for Nicholas         Life of Pi   \n",
       "3                 Herr Lehmann.         Herzsprung   \n",
       "4    The Pilot's Wife : A Novel  Lord of the Flies   \n",
       "5                 Herr Lehmann.         Herzsprung   \n",
       "6                    The Return      The Rainmaker   \n",
       "7                 Herr Lehmann.         Herzsprung   \n",
       "8                 Herr Lehmann.         Herzsprung   \n",
       "9                 Herr Lehmann.         Herzsprung   \n",
       "\n",
       "                                               10  \\\n",
       "0  Hidden Agendas (Tom Clancy's Net Force, No. 2)   \n",
       "1  Hidden Agendas (Tom Clancy's Net Force, No. 2)   \n",
       "2                             1st to Die: A Novel   \n",
       "3  Hidden Agendas (Tom Clancy's Net Force, No. 2)   \n",
       "4                          The Catcher in the Rye   \n",
       "5  Hidden Agendas (Tom Clancy's Net Force, No. 2)   \n",
       "6                           The Cider House Rules   \n",
       "7  Hidden Agendas (Tom Clancy's Net Force, No. 2)   \n",
       "8  Hidden Agendas (Tom Clancy's Net Force, No. 2)   \n",
       "9  Hidden Agendas (Tom Clancy's Net Force, No. 2)   \n",
       "\n",
       "                                                  11  \\\n",
       "0                                       Hidden Fires   \n",
       "1                                       Hidden Fires   \n",
       "2  Where the Heart Is (Oprah's Book Club (Paperba...   \n",
       "3                                       Hidden Fires   \n",
       "4                      The Poisonwood Bible: A Novel   \n",
       "5                                       Hidden Fires   \n",
       "6                                         The Client   \n",
       "7                                       Hidden Fires   \n",
       "8                                       Hidden Fires   \n",
       "9                                       Hidden Fires   \n",
       "\n",
       "                                      12  \\\n",
       "0                  Hidden Jewel (Landry)   \n",
       "1                  Hidden Jewel (Landry)   \n",
       "2  Everything's Eventual : 14 Dark Tales   \n",
       "3                  Hidden Jewel (Landry)   \n",
       "4                           Dreamcatcher   \n",
       "5                  Hidden Jewel (Landry)   \n",
       "6                         Into the Woods   \n",
       "7                  Hidden Jewel (Landry)   \n",
       "8                  Hidden Jewel (Landry)   \n",
       "9                  Hidden Jewel (Landry)   \n",
       "\n",
       "                                                  13  \\\n",
       "0                                        Hidden Prey   \n",
       "1                                        Hidden Prey   \n",
       "2  A Child Called \\It\\\": One Child's Courage to S...   \n",
       "3                                        Hidden Prey   \n",
       "4                                The Handmaid's Tale   \n",
       "5                                        Hidden Prey   \n",
       "6  Into Thin Air : A Personal Account of the Mt. ...   \n",
       "7                                        Hidden Prey   \n",
       "8                                        Hidden Prey   \n",
       "9                                        Hidden Prey   \n",
       "\n",
       "                                                  14  \\\n",
       "0                                      Hidden Riches   \n",
       "1                                      Hidden Riches   \n",
       "2  Harry Potter and the Order of the Phoenix (Boo...   \n",
       "3                                      Hidden Riches   \n",
       "4                                  A Wrinkle In Time   \n",
       "5                                      Hidden Riches   \n",
       "6                                          Blindness   \n",
       "7                                      Hidden Riches   \n",
       "8                                      Hidden Riches   \n",
       "9                                      Hidden Riches   \n",
       "\n",
       "                                                  15  \\\n",
       "0  Hidden Star  (The Stars Of Mithra) (Harlequin ...   \n",
       "1  Hidden Star  (The Stars Of Mithra) (Harlequin ...   \n",
       "2                                 Skipping Christmas   \n",
       "3  Hidden Star  (The Stars Of Mithra) (Harlequin ...   \n",
       "4                                  A Wrinkle in Time   \n",
       "5  Hidden Star  (The Stars Of Mithra) (Harlequin ...   \n",
       "6               Don't Stand Too Close to a Naked Man   \n",
       "7  Hidden Star  (The Stars Of Mithra) (Harlequin ...   \n",
       "8  Hidden Star  (The Stars Of Mithra) (Harlequin ...   \n",
       "9  Hidden Star  (The Stars Of Mithra) (Harlequin ...   \n",
       "\n",
       "                                 16  \\\n",
       "0     Hidden Star (The Star Series)   \n",
       "1     Hidden Star (The Star Series)   \n",
       "2  The Last Time They Met : A Novel   \n",
       "3     Hidden Star (The Star Series)   \n",
       "4                Bel Canto: A Novel   \n",
       "5     Hidden Star (The Star Series)   \n",
       "6                     SHIPPING NEWS   \n",
       "7     Hidden Star (The Star Series)   \n",
       "8     Hidden Star (The Star Series)   \n",
       "9     Hidden Star (The Star Series)   \n",
       "\n",
       "                                                  17  \\\n",
       "0  Henry and June: From \\A Journal of Love\\\" -The...   \n",
       "1  Henry and June: From \\A Journal of Love\\\" -The...   \n",
       "2  Left Behind: A Novel of the Earth's Last Days ...   \n",
       "3  Henry and June: From \\A Journal of Love\\\" -The...   \n",
       "4  The Drawing of the Three (The Dark Tower, Book 2)   \n",
       "5  Henry and June: From \\A Journal of Love\\\" -The...   \n",
       "6                                        The Wedding   \n",
       "7  Henry and June: From \\A Journal of Love\\\" -The...   \n",
       "8  Henry and June: From \\A Journal of Love\\\" -The...   \n",
       "9  Henry and June: From \\A Journal of Love\\\" -The...   \n",
       "\n",
       "                                                  18  \\\n",
       "0                                    Hello, Darkness   \n",
       "1                                    Hello, Darkness   \n",
       "2  The Fellowship of the Ring (The Lord of the Ri...   \n",
       "3                                    Hello, Darkness   \n",
       "4  Harry Potter and the Order of the Phoenix (Boo...   \n",
       "5                                    Hello, Darkness   \n",
       "6                                The Prince of Tides   \n",
       "7                                    Hello, Darkness   \n",
       "8                                    Hello, Darkness   \n",
       "9                                    Hello, Darkness   \n",
       "\n",
       "                                      19  \n",
       "0                               Hideaway  \n",
       "1                               Hideaway  \n",
       "2          The Bridges of Madison County  \n",
       "3                               Hideaway  \n",
       "4  The Sweet Potato Queens' Book of Love  \n",
       "5                               Hideaway  \n",
       "6                         Black and Blue  \n",
       "7                               Hideaway  \n",
       "8                               Hideaway  \n",
       "9                               Hideaway  "
      ]
     },
     "execution_count": 36,
     "metadata": {},
     "output_type": "execute_result"
    }
   ],
   "source": [
    "predicted_ratings_top = pd.DataFrame(predicted_ratings_df.apply(lambda x:list(predicted_ratings_df.columns[np.array(x).argsort()[::-1][:20]]), axis=1).to_list())\n",
    "predicted_ratings_top.head(10)"
   ]
  },
  {
   "cell_type": "markdown",
   "id": "c60e4406",
   "metadata": {
    "pycharm": {
     "name": "#%% md\n"
    }
   },
   "source": [
    "# Other code snippets \n",
    "I intended to try gridsearch for hyperparameter tuning but didn't finish it, but I'm just leaving the code anyway to show what the next step might be."
   ]
  },
  {
   "cell_type": "markdown",
   "id": "06cf2c49",
   "metadata": {
    "pycharm": {
     "name": "#%% md\n"
    }
   },
   "source": [
    "## GridSearch (unfinished)"
   ]
  },
  {
   "cell_type": "markdown",
   "id": "11ae4ad8",
   "metadata": {
    "pycharm": {
     "name": "#%% md\n"
    }
   },
   "source": [
    "The ideal solution would be to tune the number of latent factors in SVD using gridsearch"
   ]
  },
  {
   "cell_type": "code",
   "execution_count": null,
   "id": "cd3c9285",
   "metadata": {
    "pycharm": {
     "name": "#%%\n"
    }
   },
   "outputs": [],
   "source": [
    "param_grid = {'n_components':np.arange(0,20)}\n",
    "gridsearch = GridSearchCV(TruncatedSVD, param_grid, score='mse', cv=3)\n",
    "gridsearch.fit(X)\n",
    "params = gridsearch.best_params['mean_square_error']\n",
    "svdtuned = TruncatedSVD(n_components=params['n_components'])"
   ]
  },
  {
   "cell_type": "markdown",
   "id": "c8e61981",
   "metadata": {
    "pycharm": {
     "name": "#%% md\n"
    }
   },
   "source": [
    "## GridSearch in surprise library (unfinished)"
   ]
  },
  {
   "cell_type": "markdown",
   "id": "d4d682f2",
   "metadata": {
    "pycharm": {
     "name": "#%% md\n"
    }
   },
   "source": [
    "I discovered this `surprise` library and was curious to try its GridSearch implementation, but didn't manage to make it work yet. "
   ]
  },
  {
   "cell_type": "code",
   "execution_count": null,
   "id": "b036f62c",
   "metadata": {
    "pycharm": {
     "name": "#%%\n"
    }
   },
   "outputs": [],
   "source": [
    "from surprise import SVD,NormalPredictor\n",
    "from surprise.model_selection import GridSearchCV\n",
    "param_grid = {'n_factors':np.arange(0,20)}\n",
    "gs = GridSearchCV(SVD, param_grid, measures=['rmse'], cv=3)\n",
    "gs.fit(pivot_svd)\n",
    "params = gs.best_params['rmse']\n",
    "svdtuned = SVD(n_factors=params['n_factors'])"
   ]
  }
 ],
 "metadata": {
  "kernelspec": {
   "display_name": "Python 3 (ipykernel)",
   "language": "python",
   "name": "python3"
  },
  "language_info": {
   "codemirror_mode": {
    "name": "ipython",
    "version": 3
   },
   "file_extension": ".py",
   "mimetype": "text/x-python",
   "name": "python",
   "nbconvert_exporter": "python",
   "pygments_lexer": "ipython3",
   "version": "3.9.12"
  }
 },
 "nbformat": 4,
 "nbformat_minor": 5
}
